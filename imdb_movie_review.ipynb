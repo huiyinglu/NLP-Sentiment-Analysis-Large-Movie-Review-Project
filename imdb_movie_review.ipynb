{
 "cells": [
  {
   "cell_type": "markdown",
   "metadata": {},
   "source": [
    "# NLP - Sentiment Analysis (Large Movie Review) Project\n",
    "\n",
    "# *I. Definition* #\n",
    "## Project Overview ##\n",
    "\n",
    "The project we will work on is the sentiment classification for a large movie review dataset from IMDB. Each movie review is a variable length of words and the sentiment of each movie review must be classified.\n",
    "\n",
    "The dataset used in this project is from the link: http://ai.stanford.edu/~amaas/data/sentiment/. This is a publicly available dataset and is used in one of the Kaggle competition. The data (IMDB movie reviews) are written in 50,000 text files. Among these, 50% are positive reviews and 50% are negative reviews - 12,500 positive reviews, and 12,500 negative reviews in each of training and testing datasets.\n",
    "\n",
    "This kind of task belong to the domain of Nature Language Processing (NLP). What makes this problem difficult is that the sequences can vary in length, be comprised of a very large vocabulary of input symbols and may require the model to learn the long-term context or dependencies between symbols in the input sequence. In this project, we will develop several LSTM recurrent neural network models for sequence classification problem specified, compare the performance of each model, and conclude the most suitable model for this particular problem.\n",
    "\n",
    "<img src=\"images/007_movie.jpg\" style=\"width:450;height:300px;\">"
   ]
  },
  {
   "cell_type": "markdown",
   "metadata": {},
   "source": [
    "## Problem Statement ##\n",
    "\n",
    "The dataset is the Large Movie Review Dataset often referred to as the IMDB dataset.\n",
    "The Large Movie Review Dataset contains 25,000 highly polar moving reviews (good or bad) for training and the same amount again for testing. The problem is to determine whether a given moving review has a positive or negative sentiment.\n",
    "\n",
    "In this project, we will develop multiple potential solutions and pick the most suitable one for this problem. NLP problems can be solved by using simple \"Bag of Words\" method plus simple Machine Learning classifier like Naïve Bayes. However, the subtler way to solve the NLP problem would be using word embedding plus Deep Neural Networks such as LSTM (with optional CNN plus Maxpooling layer). This is because:\n",
    "\n",
    "> -  Bag of Words method can only utilize the statistic information of the corpus (occurrence counts of words), while word embedding may capture the characteristics of each word in higher dimension vector space and better utilize word analogies; \n",
    "\n",
    "> -  LSTM can learn either the short-term or long-term context/dependencies between symbols in the input sequences while simple Machine Learning classifiers won’t able to do these. \n",
    "        \n",
    "Based on the above reasons, our solution will be a model using word embedding plus RNN (using LSTM).\n",
    "\n",
    "Text classification/sentiment analysis problem can be easily found in our daily life – Yelp review, movie review, survey for something, etc. The techniques suggested in this project can be easily applied to these applications."
   ]
  },
  {
   "cell_type": "code",
   "execution_count": 1,
   "metadata": {},
   "outputs": [
    {
     "name": "stderr",
     "output_type": "stream",
     "text": [
      "Using TensorFlow backend.\n"
     ]
    }
   ],
   "source": [
    "# Import the necessary libraries\n",
    "import numpy as np\n",
    "import pandas as pd\n",
    "import matplotlib.pyplot as plt\n",
    "plt.rcParams['patch.force_edgecolor'] = True\n",
    "%matplotlib inline\n",
    "import seaborn as sns\n",
    "\n",
    "# For data cleaning and data preprocessing\n",
    "import re\n",
    "from os import listdir\n",
    "from string import punctuation\n",
    "from nltk.corpus import stopwords\n",
    "from collections import Counter\n",
    "\n",
    "# For NLP using scikit-learn/\"Bag of Words\"\n",
    "from sklearn.metrics import accuracy_score\n",
    "from sklearn.naive_bayes import MultinomialNB\n",
    "from sklearn.feature_extraction.text import CountVectorizer\n",
    "\n",
    "# Keras - for data preprocessing\n",
    "from keras.preprocessing.text import Tokenizer\n",
    "from keras.preprocessing.sequence import pad_sequences\n",
    "\n",
    "# Keras - For creating model\n",
    "from keras.models import Sequential\n",
    "from keras.layers import Dense, LSTM, Dropout, Flatten, Conv1D, MaxPooling1D\n",
    "from keras.layers.embeddings import Embedding\n",
    "#from keras.preprocessing import sequence\n",
    "\n",
    "# For accessing IMDB dataset via built-in functions provided by Keras\n",
    "from keras.datasets import imdb"
   ]
  },
  {
   "cell_type": "markdown",
   "metadata": {},
   "source": [
    "# *II. Analysis* #\n",
    "## Data Exploration ##"
   ]
  },
  {
   "cell_type": "markdown",
   "metadata": {},
   "source": [
    "**Let's have some understanding about the directory and file structures for our datasets**\n",
    "\n",
    "Note: the directory/file structures for the dataset (after untar and unzip) looks like below: aclImdb (root)/train(or test)/pos(or neg)/file(x_y). File is named in the format: file_id (x)– unique id for each review entry, number(y) (integer 1~4 means negative review, integer 7~10 means positive review). (Note: directory aclImdb has been renamed in my local environment – it's “datasets” directory now)."
   ]
  },
  {
   "cell_type": "markdown",
   "metadata": {},
   "source": [
    "**Observations:** The sizes of the files vary in length. They could be 13,xxx bytes or larger, or could be 2xx bytes or smaller.\n",
    "We don't see any empty files. Let's print out contents from some of those files."
   ]
  },
  {
   "cell_type": "code",
   "execution_count": 2,
   "metadata": {},
   "outputs": [],
   "source": [
    "def load_text(filename):\n",
    "    f = open(filename, 'r', encoding='utf-8')\n",
    "    content = f.read()\n",
    "    f.close()\n",
    "    return content"
   ]
  },
  {
   "cell_type": "code",
   "execution_count": 13,
   "metadata": {
    "scrolled": true
   },
   "outputs": [
    {
     "name": "stdout",
     "output_type": "stream",
     "text": [
      "A sample of positive review: ==========\n",
      "Bromwell High is a cartoon comedy. It ran at the same time as some other programs about school life, such as \"Teachers\". My 35 years in the teaching profession lead me to believe that Bromwell High's satire is much closer to reality than is \"Teachers\". The scramble to survive financially, the insightful students who can see right through their pathetic teachers' pomp, the pettiness of the whole situation, all remind me of the schools I knew and their students. When I saw the episode in which a student repeatedly tried to burn down the school, I immediately recalled ......... at .......... High. A classic line: INSPECTOR: I'm here to sack one of your teachers. STUDENT: Welcome to Bromwell High. I expect that many adults of my age think that Bromwell High is far fetched. What a pity that it isn't!\n",
      "\n",
      "A sample of negative review: ==========\n",
      "This movie looks like it was made for TV . For years I waited for some movie to be made about Rubin Carter, because I loved to see him box at the old MSG, and to see this movie was very disappointing.I have alot of respect for Mr Washington, but he was awful and boring.There is really nothing good to say about this movie except I did like the song.\n"
     ]
    }
   ],
   "source": [
    "print(\"A sample of positive review: ==========\")\n",
    "print(load_text(\"datasets/train/pos/0_9.txt\"))\n",
    "print()\n",
    "print(\"A sample of negative review: ==========\")\n",
    "print(load_text(\"datasets/train/neg/11090_1.txt\"))"
   ]
  },
  {
   "cell_type": "markdown",
   "metadata": {},
   "source": [
    "**Observations:** the content of the review may contains punctuations, numbers, upper/lower case letters, short word (length equals 1), or stop words. Some symbols/words are candidates to be removed, reasons are as bellow:\n",
    "1. Punctuactions: it's hard to tell the sentiments from them.\n",
    "2. Numbers: some of the numbers don't carry the information about sentiment; it's difficult to intepret numbers to get sentiments from them.\n",
    "3. Stop words (\"a\", \"the\", \"this\", \"at\", etc) usually don't carry information about sentiments.\n",
    "4. Short words (like \"a\", \"I\", etc) don't carry information about sentiments.    \n",
    "\n",
    "We will remove above symbols/words."
   ]
  },
  {
   "cell_type": "markdown",
   "metadata": {},
   "source": [
    "## Data Preprocessing and Data Visualization ##"
   ]
  },
  {
   "cell_type": "code",
   "execution_count": 3,
   "metadata": {},
   "outputs": [
    {
     "name": "stdout",
     "output_type": "stream",
     "text": [
      "Start processing files in directory: datasets/train/pos/\n",
      "Start processing files in directory: datasets/train/neg/\n",
      "Start processing files in directory: datasets/test/pos/\n",
      "Start processing files in directory: datasets/test/neg/\n",
      "                                                    text ranking\n",
      "0      bromwell high cartoon comedy ran time programs...       1\n",
      "1      homelessness houselessness george carlin state...       1\n",
      "2      brilliant acting lesley ann warren best dramat...       1\n",
      "3      easily underrated film inn brooks cannon sure ...       1\n",
      "4      typical mel brooks film much less slapstick mo...       1\n",
      "5      comedic robin williams quirky insane robin wil...       1\n",
      "6      yes art successfully make slow paced thriller ...       1\n",
      "7      critically acclaimed psychological thriller ba...       1\n",
      "8      night listener robin williams toni collette bo...       1\n",
      "9      know robin williams god bless constantly shoot...       1\n",
      "10     first read armistead maupins story taken human...       1\n",
      "11     liked film action scenes interesting tense wel...       1\n",
      "12     many illnesses born mind man given life modern...       1\n",
      "13     enjoyed night listener much one better movies ...       1\n",
      "14     night listener probably one william best roles...       1\n",
      "15     like one previous commenters said foundations ...       1\n",
      "16     night listener held attention robin williams s...       1\n",
      "17     popular radio storyteller gabriel one robin wi...       1\n",
      "18     one thing recommend film intriguing premise ce...       1\n",
      "19     absolutely loved film relate comments read com...       1\n",
      "20     night listener better people generally saying ...       1\n",
      "21     comes movies pretty picky complain anything ev...       1\n",
      "22     somewhat funny well paced action thriller jami...       1\n",
      "23     legendary boris karloff ended illustrious care...       1\n",
      "24     tale based two edgar allen poe pieces fall hou...       1\n",
      "25     aro tolbukhin burnt alive seven people mission...       1\n",
      "26     seeing several movies villaronga pretty clear ...       1\n",
      "27     many things fall aro tolbukhin en la mente del...       1\n",
      "28     got unique twists two genres ever seen giant m...       1\n",
      "29     without kirsten miller project completed howev...       1\n",
      "...                                                  ...     ...\n",
      "24970  remember watching movie several times young ki...       0\n",
      "24971  first scene problem child baby peeing nun face...       0\n",
      "24972  kid rather bad way make type outsmarts adults ...       0\n",
      "24973  girlfriend stunned bad film minutes would call...       0\n",
      "24974  one worst movies ever seen saw toronto film fe...       0\n",
      "24975  recently viewed lipstick first time decades ba...       0\n",
      "24976  waste minutes time fast food fast women annoyi...       0\n",
      "24977  movie billed comedy mystery fails badly myster...       0\n",
      "24978  story starts slow nothing funny happens action...       0\n",
      "24979  film massive yawn proving americans got hang f...       0\n",
      "24980  sunday night waiting advertised movie tv said ...       0\n",
      "24981  ever seen film shockingly inept think plenty e...       0\n",
      "24982  next time party someone asks day heard express...       0\n",
      "24983  turgid dialogue feeble characterization harvey...       0\n",
      "24984  cameron diaz woman married judge played harvey...       0\n",
      "24985  misfortune watch rubbish sky cinema max cold w...       0\n",
      "24986  pretty bad generic movie synopsis information ...       0\n",
      "24987  watched movie scifi channel conclude film made...       0\n",
      "24988  first dog movie find totally enjoyable spite p...       0\n",
      "24989  ah yez sci fi channel produces yeti another ab...       0\n",
      "24990  yeti curse snow demon starts aboard plane full...       0\n",
      "24991  hmmm sports team plane crash gets stranded sno...       0\n",
      "24992  saw piece garbage amc last night wonder could ...       0\n",
      "24993  although production jerry jameson direction de...       0\n",
      "24994  capt gallagher lemmon flight attendant eve cla...       0\n",
      "24995  towards end movie felt technical felt like cla...       0\n",
      "24996  kind movie enemies content watch time bloody t...       0\n",
      "24997  saw descent last night stockholm film festival...       0\n",
      "24998  films pick pound turn rather good rd century f...       0\n",
      "24999  one dumbest films ever seen rips nearly ever t...       0\n",
      "\n",
      "[25000 rows x 2 columns]\n",
      "                                                    text ranking\n",
      "0      went saw movie last night coaxed friends mine ...       1\n",
      "1      actor turned director bill paxton follows prom...       1\n",
      "2      recreational golfer knowledge sport history pl...       1\n",
      "3      saw film sneak preview delightful cinematograp...       1\n",
      "4      bill paxton taken true story us golf open made...       1\n",
      "5      saw film september st indianapolis one judges ...       1\n",
      "6      maybe reading much wonder much hand hongsheng ...       1\n",
      "7      felt film many good qualities cinematography c...       1\n",
      "8      movie amazing fact real people portray real li...       1\n",
      "9      quitting may much exiting pre ordained identit...       1\n",
      "10     loved movie beginning end musician let drugs g...       1\n",
      "11     fortunate attend london premier film fan briti...       1\n",
      "12     first saw movie ifc great network way see unde...       1\n",
      "13     must say every time see movie deeply touched p...       1\n",
      "14     wife mental health therapist watched beginning...       1\n",
      "15     saw film rotterdam international film festival...       1\n",
      "16     night hunted stars french porn star brigitte l...       1\n",
      "17     even fan jean rollin idiosyncratic body work c...       1\n",
      "18     surprised much enjoyed sure bit slow moving pa...       1\n",
      "19     went night hunted knowing expect really impres...       1\n",
      "20     certainly seen jean rollin films mostly seem b...       1\n",
      "21     since cartoon made old days felix talks using ...       1\n",
      "22     despite title unlike stories love war film sti...       1\n",
      "23     felix hollywood great film version viewed well...       1\n",
      "24     gem cartoon silent era discovered cartoon netw...       1\n",
      "25     short one best time proof like charlie chaplin...       1\n",
      "26     felix watching actor rehearse lines ham ham ki...       1\n",
      "27     say whether larry hama ever saw old cartoons w...       1\n",
      "28     errol flynn roguish charm really shines entert...       1\n",
      "29     warner brothers tampered considerably american...       1\n",
      "...                                                  ...     ...\n",
      "24970  expecting born kill exciting high tension film...       0\n",
      "24971  fellow giallo fanatics beware proceed caution ...       0\n",
      "24972  almost embarrassed admit seeing caligula twice...       0\n",
      "24973  rated movie generous scenery ponderous gaudy a...       0\n",
      "24974  caligula shares many attributes fellini satyri...       0\n",
      "24975  writer director robert downey sr pioneer under...       0\n",
      "24976  probably version reviewers real hard core sex ...       0\n",
      "24977  really wants see disgusting violence disgustin...       0\n",
      "24978  semi film buff heard infamous movie long time ...       0\n",
      "24979  minute version extremely hardcore hear rated v...       0\n",
      "24980  although plot taken history ancient rome calig...       0\n",
      "24981  found movie local video store surprised see dv...       0\n",
      "24982  ancient movie fan heard much controversial mov...       0\n",
      "24983  incomprehensibly dreadful mishmash probably no...       0\n",
      "24984  currently slogging gibbon fall decline roman e...       0\n",
      "24985  rare sensation come across film embarrassing f...       0\n",
      "24986  starting tearjerking poem images american miss...       0\n",
      "24987  saw film tender age group friends reputation p...       0\n",
      "24988  rare see film strikes every aspect caligula su...       0\n",
      "24989  describe caligulia controversial film era deba...       0\n",
      "24990  read script line thought capote needed trim se...       0\n",
      "24991  film invited observe descent moral emotional f...       0\n",
      "24992  many people said great movie hoffman deliverin...       0\n",
      "24993  one dreary inert self important bore thing sud...       0\n",
      "24994  awful awful awful times hundred still begin de...       0\n",
      "24995  occasionally let kids watch garbage understand...       0\n",
      "24996  anymore pretty much reality tv shows people ma...       0\n",
      "24997  basic genre thriller intercut uncomfortable me...       0\n",
      "24998  four things intrigued film firstly stars carly...       0\n",
      "24999  david bryce comments nearby exceptionally well...       0\n",
      "\n",
      "[25000 rows x 2 columns]\n"
     ]
    },
    {
     "name": "stdout",
     "output_type": "stream",
     "text": [
      "73101\n",
      "[('br', 101872), ('movie', 44047), ('film', 40162), ('one', 26795), ('like', 20281), ('good', 15147), ('time', 12727), ('even', 12656), ('would', 12436), ('story', 11990), ('really', 11739), ('see', 11479), ('well', 10668), ('much', 9766), ('get', 9312), ('bad', 9308), ('people', 9287), ('also', 9159), ('first', 9064), ('great', 9061), ('made', 8364), ('way', 8026), ('make', 8025), ('could', 7923), ('movies', 7668), ('think', 7298), ('characters', 7159), ('character', 7024), ('watch', 6974), ('two', 6906), ('films', 6889), ('seen', 6681), ('many', 6675), ('life', 6632), ('plot', 6589), ('acting', 6494), ('never', 6485), ('love', 6454), ('little', 6438), ('best', 6416), ('show', 6295), ('know', 6167), ('ever', 5998), ('man', 5982), ('better', 5740), ('end', 5651), ('still', 5624), ('say', 5396), ('scene', 5383), ('scenes', 5213), ('go', 5159), ('something', 5077), ('back', 4972), ('real', 4738), ('watching', 4606), ('though', 4566), ('thing', 4529), ('old', 4526), ('years', 4516), ('actors', 4488), ('director', 4449), ('work', 4374), ('another', 4330), ('new', 4312), ('nothing', 4291), ('funny', 4290), ('actually', 4240), ('makes', 4204), ('look', 4147), ('find', 4132), ('going', 4102), ('part', 4042), ('lot', 3980), ('every', 3979), ('world', 3835), ('cast', 3830), ('us', 3796), ('quite', 3739), ('want', 3703), ('things', 3688), ('pretty', 3664), ('young', 3660), ('seems', 3619), ('around', 3617), ('horror', 3592), ('got', 3587), ('however', 3537), ('fact', 3523), ('take', 3510), ('big', 3477), ('enough', 3453), ('long', 3452), ('thought', 3437), ('series', 3417), ('may', 3387), ('original', 3378), ('give', 3376), ('action', 3355), ('right', 3313), ('without', 3267), ('must', 3250), ('comedy', 3246), ('always', 3240), ('times', 3239), ('point', 3227), ('gets', 3204), ('family', 3202), ('role', 3189), ('come', 3189), ('saw', 3168), ('almost', 3140), ('interesting', 3129), ('least', 3113), ('done', 3096), ('whole', 3078), ('music', 3057), ('bit', 3055), ('guy', 3036), ('script', 3029), ('far', 2979), ('making', 2962), ('minutes', 2953), ('feel', 2951), ('anything', 2949), ('last', 2933), ('might', 2919), ('since', 2907), ('performance', 2898), ('girl', 2854), ('probably', 2842), ('woman', 2796), ('kind', 2783), ('tv', 2782), ('away', 2776), ('yet', 2754), ('day', 2746), ('rather', 2734), ('worst', 2732), ('fun', 2695), ('sure', 2686), ('hard', 2668), ('anyone', 2632), ('played', 2588), ('found', 2573), ('although', 2538), ('especially', 2536), ('course', 2506), ('believe', 2505), ('screen', 2493), ('comes', 2484), ('looking', 2483), ('trying', 2473), ('set', 2456), ('goes', 2442), ('book', 2421), ('looks', 2414), ('place', 2411), ('actor', 2389), ('different', 2385), ('put', 2381), ('money', 2363), ('year', 2362), ('ending', 2359), ('dvd', 2345), ('let', 2344), ('maybe', 2342), ('someone', 2339), ('true', 2333), ('sense', 2326), ('everything', 2325), ('reason', 2324), ('shows', 2308), ('three', 2296), ('worth', 2278), ('job', 2277), ('main', 2264), ('together', 2243), ('play', 2238), ('watched', 2236), ('american', 2228), ('everyone', 2223), ('plays', 2214), ('john', 2209), ('effects', 2204), ('later', 2200), ('audience', 2199), ('said', 2196), ('takes', 2192), ('instead', 2191), ('house', 2185), ('beautiful', 2178), ('seem', 2175), ('night', 2165), ('high', 2161), ('version', 2157), ('wife', 2140), ('left', 2125), ('father', 2124), ('special', 2113), ('seeing', 2099), ('half', 2095), ('star', 2087), ('excellent', 2071), ('war', 2051), ('shot', 2051), ('idea', 2043), ('black', 2036), ('nice', 2012), ('less', 2002), ('else', 2001), ('mind', 1995), ('simply', 1966), ('read', 1964), ('second', 1962), ('fan', 1911), ('death', 1909), ('men', 1909), ('hollywood', 1907), ('poor', 1897), ('help', 1896), ('completely', 1889), ('dead', 1881), ('used', 1879), ('home', 1878), ('line', 1872), ('short', 1867), ('either', 1866), ('given', 1848), ('top', 1848), ('kids', 1844), ('budget', 1837), ('try', 1831), ('classic', 1829), ('wrong', 1823), ('performances', 1822), ('women', 1819), ('enjoy', 1812), ('boring', 1812), ('need', 1807), ('use', 1804), ('rest', 1803), ('low', 1799), ('friends', 1791), ('production', 1790), ('full', 1779), ('camera', 1778), ('along', 1776), ('truly', 1743), ('video', 1731), ('awful', 1725), ('couple', 1719), ('tell', 1718), ('next', 1717), ('remember', 1703), ('stupid', 1701), ('stars', 1700), ('start', 1700), ('sex', 1685), ('perhaps', 1684), ('mean', 1683), ('came', 1673), ('recommend', 1668), ('moments', 1666), ('school', 1659), ('episode', 1659), ('wonderful', 1658), ('small', 1646), ('face', 1645), ('understand', 1644), ('terrible', 1638), ('playing', 1633), ('getting', 1627), ('written', 1616), ('early', 1605), ('name', 1604), ('often', 1601), ('keep', 1601), ('style', 1601), ('perfect', 1598), ('human', 1596), ('person', 1596), ('others', 1595), ('definitely', 1580), ('gives', 1577), ('boy', 1560), ('lost', 1554), ('lines', 1553), ('live', 1552), ('become', 1544), ('dialogue', 1542), ('head', 1541), ('piece', 1537), ('finally', 1536), ('yes', 1535), ('case', 1533), ('felt', 1528), ('mother', 1524), ('liked', 1516), ('supposed', 1516), ('children', 1510), ('title', 1497), ('cinema', 1494), ('white', 1492), ('absolutely', 1485), ('picture', 1485), ('sort', 1472), ('worse', 1469), ('certainly', 1463), ('went', 1463), ('entire', 1461), ('waste', 1458), ('killer', 1456), ('oh', 1451), ('problem', 1451), ('mr', 1448), ('evil', 1448), ('hope', 1447), ('entertaining', 1443), ('friend', 1442), ('overall', 1437), ('called', 1433), ('based', 1431), ('loved', 1428), ('fans', 1421), ('several', 1420), ('drama', 1412), ('beginning', 1401), ('lives', 1394), ('direction', 1386), ('care', 1385), ('already', 1381), ('dark', 1381), ('becomes', 1380), ('laugh', 1375), ('example', 1374), ('despite', 1365), ('seemed', 1363), ('throughout', 1361), ('turn', 1359), ('son', 1357), ('unfortunately', 1353), ('wanted', 1352), ('history', 1333), ('michael', 1333), ('final', 1329), ('heart', 1328), ('fine', 1324), ('child', 1324), ('amazing', 1321), ('sound', 1320), ('humor', 1311), ('guess', 1311), ('lead', 1310), ('totally', 1307), ('writing', 1304), ('guys', 1304), ('quality', 1301), ('close', 1296), ('art', 1293), ('wants', 1288), ('game', 1283), ('behind', 1280), ('works', 1279), ('town', 1279), ('side', 1277), ('tries', 1274), ('days', 1268), ('past', 1265), ('viewer', 1262), ('able', 1259), ('flick', 1258), ('hand', 1257), ('genre', 1256), ('turns', 1251), ('act', 1251), ('enjoyed', 1246), ('today', 1245), ('kill', 1234), ('favorite', 1232), ('car', 1225), ('soon', 1223), ('starts', 1220), ('actress', 1219), ('run', 1219), ('sometimes', 1218), ('gave', 1217), ('eyes', 1217), ('etc', 1212), ('late', 1211), ('girls', 1211), ('god', 1209), ('directed', 1204), ('horrible', 1201), ('kid', 1200), ('brilliant', 1197), ('city', 1197), ('parts', 1191), ('hour', 1189), ('blood', 1186), ('self', 1185), ('stories', 1180), ('thinking', 1179), ('expect', 1178), ('stuff', 1174), ('obviously', 1163), ('decent', 1157), ('voice', 1156), ('writer', 1153), ('fight', 1148), ('highly', 1148), ('feeling', 1145), ('daughter', 1138), ('slow', 1132), ('except', 1130), ('matter', 1127), ('type', 1125), ('age', 1121), ('anyway', 1118), ('roles', 1113), ('moment', 1112), ('killed', 1111), ('heard', 1111), ('says', 1110), ('leave', 1107), ('brother', 1107), ('took', 1100), ('strong', 1098), ('police', 1097), ('cannot', 1097), ('violence', 1093), ('hit', 1088), ('stop', 1084), ('happens', 1081), ('known', 1080), ('particularly', 1079), ('involved', 1077), ('happened', 1076), ('chance', 1069), ('extremely', 1069), ('james', 1068), ('obvious', 1066), ('told', 1063), ('murder', 1063), ('living', 1063), ('coming', 1062), ('alone', 1061), ('experience', 1059), ('lack', 1058), ('hero', 1056), ('including', 1052), ('attempt', 1050), ('please', 1047), ('happen', 1044), ('crap', 1040), ('gore', 1040), ('wonder', 1038), ('cut', 1035), ('complete', 1035), ('group', 1034), ('ago', 1033), ('interest', 1033), ('none', 1032), ('score', 1030), ('husband', 1027), ('hell', 1025), ('david', 1025), ('simple', 1023), ('save', 1023), ('ok', 1018), ('looked', 1010), ('song', 1010), ('career', 1007), ('number', 1006), ('seriously', 1002), ('possible', 1000), ('king', 999), ('annoying', 998), ('sad', 996), ('exactly', 995), ('shown', 994), ('musical', 992), ('running', 992), ('scary', 989), ('serious', 989), ('reality', 987), ('taken', 987), ('whose', 986), ('released', 986), ('english', 986), ('cinematography', 985), ('ends', 984), ('hours', 984), ('usually', 981), ('opening', 979), ('jokes', 977), ('light', 976), ('hilarious', 973), ('body', 972), ('across', 971), ('cool', 971)]\n"
     ]
    }
   ],
   "source": [
    "def clean_text(line, return_line=True):\n",
    "    # Remove the non-alphabet symbols which include punctuations, numbers, etc.\n",
    "    review = re.sub('[^a-zA-Z]', ' ', line)\n",
    "    # Convert the letters to lower case and split the tokens by space.\n",
    "    tokens = review.lower().split()\n",
    "    # Remove the stop words and short words.\n",
    "    tokens = [word for word in tokens if (not word in set(stopwords.words('english'))) and (len(word)>1)]\n",
    "    if return_line == False:\n",
    "        return tokens\n",
    "    else:\n",
    "        return \" \".join(tokens)\n",
    "\n",
    "def update_vocab(tokens, vocab):\n",
    "    # Update the count of the words in the vocab Counter data structure.\n",
    "    vocab.update(tokens)\n",
    "    return vocab\n",
    "\n",
    "# Save the vocabulary into a file.\n",
    "# Each line contains a word, space, then the word frequency.\n",
    "# The first argument vocab_list should be a list of tuples - (word, word frequency) \n",
    "def save_vocab(vocab_list, vocab_file):\n",
    "    with open(vocab_file, 'w', encoding='utf-8') as f:\n",
    "        for (key, value) in vocab_list:\n",
    "            content = key + ' ' + str(value) + '\\n'\n",
    "            f.write(content)\n",
    "\n",
    "# Read the vocabulary from a file\n",
    "# Return a list of tuples - (word, word freqency)\n",
    "def load_vocab(vocab_file):\n",
    "    with open(vocab_file, 'r', encoding='utf-8') as f:\n",
    "        vocab_list = []\n",
    "        for line in f:\n",
    "            line = line.strip().split()\n",
    "            curr_word = line[0]\n",
    "            item = (curr_word, int(line[1]))\n",
    "            vocab_list.append(item)\n",
    "    return vocab_list\n",
    "\n",
    "# Process the text files in the training directory: perform load file, clean text and update word counts.\n",
    "# Save the cleaned texts to rows of a Datraframe - one row per file. \n",
    "def process_files_in_train_dir(directory, df, label, vocab):\n",
    "    for filename in listdir(directory):\n",
    "        path = directory + filename\n",
    "        content = load_text(path)\n",
    "        tokens = clean_text(content, False)\n",
    "        vocab = update_vocab(tokens, vocab)\n",
    "        cleaned_text = \" \".join(tokens)\n",
    "        df.loc[len(df)] = [cleaned_text, label]\n",
    "    return df, vocab\n",
    "\n",
    "# Process the text files in the testing directory: perform load file, and clean text.\n",
    "# Save the cleaned texts to rows of a Datraframe - one row per file. \n",
    "def process_files_in_test_dir(directory, df, label):\n",
    "    for filename in listdir(directory):\n",
    "        path = directory + filename\n",
    "        content = load_text(path)\n",
    "        cleaned_text = clean_text(content, True)\n",
    "        df.loc[len(df)] = [cleaned_text, label]\n",
    "    return df\n",
    "\n",
    "# Create a Counter for vocabulary updating.\n",
    "# Create 2 Dataframes - one for training, one for testing dataset.\n",
    "# Visit each directories from the root of the dataset and perform data cleaning.\n",
    "# Save the cleaned text to the Dataframes.\n",
    "def process_data(dataset_root, cleaned_train_data_file, cleaned_test_data_file):\n",
    "    # Create a Counter data structure for our vocabulary.\n",
    "    vocab = Counter()\n",
    "    # Create 2 Dataframe for the cleaned texts - one for training data, one for testing data\n",
    "    train_df = pd.DataFrame(columns=['text', 'ranking'])\n",
    "    test_df = pd.DataFrame(columns=['text', 'ranking'])\n",
    "    \n",
    "    directory = dataset_root + '/train/pos/'\n",
    "    print(\"Start processing files in directory: %s\" %(directory))\n",
    "    train_df, vocab = process_files_in_train_dir(directory, train_df, 1, vocab)\n",
    "    directory = dataset_root + '/train/neg/'\n",
    "    print(\"Start processing files in directory: %s\" %(directory))\n",
    "    train_df, vocab = process_files_in_train_dir(directory, train_df, 0, vocab)\n",
    "        \n",
    "    directory = dataset_root + '/test/pos/'\n",
    "    print(\"Start processing files in directory: %s\" %(directory))\n",
    "    test_df = process_files_in_test_dir(directory, test_df, 1)\n",
    "    directory = dataset_root + '/test/neg/'\n",
    "    print(\"Start processing files in directory: %s\" %(directory))\n",
    "    test_df = process_files_in_test_dir(directory, test_df, 0)\n",
    "        \n",
    "    print(train_df)\n",
    "    print(test_df)\n",
    "    \n",
    "    # Save the 2 Dataframes to separate files.\n",
    "    train_df.to_csv(cleaned_train_data_file, encoding='utf-8', index=False)\n",
    "    test_df.to_csv(cleaned_test_data_file, encoding='utf-8', index=False)\n",
    "        \n",
    "    print(len(vocab))\n",
    "    # print the top words in the vocab\n",
    "    print(vocab.most_common(500))\n",
    "    return vocab\n",
    "\n",
    "vocab = process_data('datasets', 'cleaned_train_data.csv', 'cleaned_test_data.csv')\n",
    "save_vocab(vocab.most_common(), 'vocab.txt')"
   ]
  },
  {
   "cell_type": "code",
   "execution_count": 2,
   "metadata": {},
   "outputs": [
    {
     "name": "stdout",
     "output_type": "stream",
     "text": [
      "                                                    text  ranking\n",
      "0      bromwell high cartoon comedy ran time programs...        1\n",
      "1      homelessness houselessness george carlin state...        1\n",
      "2      brilliant acting lesley ann warren best dramat...        1\n",
      "3      easily underrated film inn brooks cannon sure ...        1\n",
      "4      typical mel brooks film much less slapstick mo...        1\n",
      "5      comedic robin williams quirky insane robin wil...        1\n",
      "6      yes art successfully make slow paced thriller ...        1\n",
      "7      critically acclaimed psychological thriller ba...        1\n",
      "8      night listener robin williams toni collette bo...        1\n",
      "9      know robin williams god bless constantly shoot...        1\n",
      "10     first read armistead maupins story taken human...        1\n",
      "11     liked film action scenes interesting tense wel...        1\n",
      "12     many illnesses born mind man given life modern...        1\n",
      "13     enjoyed night listener much one better movies ...        1\n",
      "14     night listener probably one william best roles...        1\n",
      "15     like one previous commenters said foundations ...        1\n",
      "16     night listener held attention robin williams s...        1\n",
      "17     popular radio storyteller gabriel one robin wi...        1\n",
      "18     one thing recommend film intriguing premise ce...        1\n",
      "19     absolutely loved film relate comments read com...        1\n",
      "20     night listener better people generally saying ...        1\n",
      "21     comes movies pretty picky complain anything ev...        1\n",
      "22     somewhat funny well paced action thriller jami...        1\n",
      "23     legendary boris karloff ended illustrious care...        1\n",
      "24     tale based two edgar allen poe pieces fall hou...        1\n",
      "25     aro tolbukhin burnt alive seven people mission...        1\n",
      "26     seeing several movies villaronga pretty clear ...        1\n",
      "27     many things fall aro tolbukhin en la mente del...        1\n",
      "28     got unique twists two genres ever seen giant m...        1\n",
      "29     without kirsten miller project completed howev...        1\n",
      "...                                                  ...      ...\n",
      "24970  remember watching movie several times young ki...        0\n",
      "24971  first scene problem child baby peeing nun face...        0\n",
      "24972  kid rather bad way make type outsmarts adults ...        0\n",
      "24973  girlfriend stunned bad film minutes would call...        0\n",
      "24974  one worst movies ever seen saw toronto film fe...        0\n",
      "24975  recently viewed lipstick first time decades ba...        0\n",
      "24976  waste minutes time fast food fast women annoyi...        0\n",
      "24977  movie billed comedy mystery fails badly myster...        0\n",
      "24978  story starts slow nothing funny happens action...        0\n",
      "24979  film massive yawn proving americans got hang f...        0\n",
      "24980  sunday night waiting advertised movie tv said ...        0\n",
      "24981  ever seen film shockingly inept think plenty e...        0\n",
      "24982  next time party someone asks day heard express...        0\n",
      "24983  turgid dialogue feeble characterization harvey...        0\n",
      "24984  cameron diaz woman married judge played harvey...        0\n",
      "24985  misfortune watch rubbish sky cinema max cold w...        0\n",
      "24986  pretty bad generic movie synopsis information ...        0\n",
      "24987  watched movie scifi channel conclude film made...        0\n",
      "24988  first dog movie find totally enjoyable spite p...        0\n",
      "24989  ah yez sci fi channel produces yeti another ab...        0\n",
      "24990  yeti curse snow demon starts aboard plane full...        0\n",
      "24991  hmmm sports team plane crash gets stranded sno...        0\n",
      "24992  saw piece garbage amc last night wonder could ...        0\n",
      "24993  although production jerry jameson direction de...        0\n",
      "24994  capt gallagher lemmon flight attendant eve cla...        0\n",
      "24995  towards end movie felt technical felt like cla...        0\n",
      "24996  kind movie enemies content watch time bloody t...        0\n",
      "24997  saw descent last night stockholm film festival...        0\n",
      "24998  films pick pound turn rather good rd century f...        0\n",
      "24999  one dumbest films ever seen rips nearly ever t...        0\n",
      "\n",
      "[25000 rows x 2 columns]\n",
      "\n",
      "                                                    text  ranking\n",
      "0      went saw movie last night coaxed friends mine ...        1\n",
      "1      actor turned director bill paxton follows prom...        1\n",
      "2      recreational golfer knowledge sport history pl...        1\n",
      "3      saw film sneak preview delightful cinematograp...        1\n",
      "4      bill paxton taken true story us golf open made...        1\n",
      "5      saw film september st indianapolis one judges ...        1\n",
      "6      maybe reading much wonder much hand hongsheng ...        1\n",
      "7      felt film many good qualities cinematography c...        1\n",
      "8      movie amazing fact real people portray real li...        1\n",
      "9      quitting may much exiting pre ordained identit...        1\n",
      "10     loved movie beginning end musician let drugs g...        1\n",
      "11     fortunate attend london premier film fan briti...        1\n",
      "12     first saw movie ifc great network way see unde...        1\n",
      "13     must say every time see movie deeply touched p...        1\n",
      "14     wife mental health therapist watched beginning...        1\n",
      "15     saw film rotterdam international film festival...        1\n",
      "16     night hunted stars french porn star brigitte l...        1\n",
      "17     even fan jean rollin idiosyncratic body work c...        1\n",
      "18     surprised much enjoyed sure bit slow moving pa...        1\n",
      "19     went night hunted knowing expect really impres...        1\n",
      "20     certainly seen jean rollin films mostly seem b...        1\n",
      "21     since cartoon made old days felix talks using ...        1\n",
      "22     despite title unlike stories love war film sti...        1\n",
      "23     felix hollywood great film version viewed well...        1\n",
      "24     gem cartoon silent era discovered cartoon netw...        1\n",
      "25     short one best time proof like charlie chaplin...        1\n",
      "26     felix watching actor rehearse lines ham ham ki...        1\n",
      "27     say whether larry hama ever saw old cartoons w...        1\n",
      "28     errol flynn roguish charm really shines entert...        1\n",
      "29     warner brothers tampered considerably american...        1\n",
      "...                                                  ...      ...\n",
      "24970  expecting born kill exciting high tension film...        0\n",
      "24971  fellow giallo fanatics beware proceed caution ...        0\n",
      "24972  almost embarrassed admit seeing caligula twice...        0\n",
      "24973  rated movie generous scenery ponderous gaudy a...        0\n",
      "24974  caligula shares many attributes fellini satyri...        0\n",
      "24975  writer director robert downey sr pioneer under...        0\n",
      "24976  probably version reviewers real hard core sex ...        0\n",
      "24977  really wants see disgusting violence disgustin...        0\n",
      "24978  semi film buff heard infamous movie long time ...        0\n",
      "24979  minute version extremely hardcore hear rated v...        0\n",
      "24980  although plot taken history ancient rome calig...        0\n",
      "24981  found movie local video store surprised see dv...        0\n",
      "24982  ancient movie fan heard much controversial mov...        0\n",
      "24983  incomprehensibly dreadful mishmash probably no...        0\n",
      "24984  currently slogging gibbon fall decline roman e...        0\n",
      "24985  rare sensation come across film embarrassing f...        0\n",
      "24986  starting tearjerking poem images american miss...        0\n",
      "24987  saw film tender age group friends reputation p...        0\n",
      "24988  rare see film strikes every aspect caligula su...        0\n",
      "24989  describe caligulia controversial film era deba...        0\n",
      "24990  read script line thought capote needed trim se...        0\n",
      "24991  film invited observe descent moral emotional f...        0\n",
      "24992  many people said great movie hoffman deliverin...        0\n",
      "24993  one dreary inert self important bore thing sud...        0\n",
      "24994  awful awful awful times hundred still begin de...        0\n",
      "24995  occasionally let kids watch garbage understand...        0\n",
      "24996  anymore pretty much reality tv shows people ma...        0\n",
      "24997  basic genre thriller intercut uncomfortable me...        0\n",
      "24998  four things intrigued film firstly stars carly...        0\n",
      "24999  david bryce comments nearby exceptionally well...        0\n",
      "\n",
      "[25000 rows x 2 columns]\n"
     ]
    }
   ],
   "source": [
    "train_df = pd.read_csv(\"cleaned_train_data.csv\", encoding=\"utf-8\")\n",
    "test_df = pd.read_csv(\"cleaned_test_data.csv\", encoding=\"utf-8\")\n",
    "print(train_df)\n",
    "print()\n",
    "print(test_df)"
   ]
  },
  {
   "cell_type": "code",
   "execution_count": 3,
   "metadata": {},
   "outputs": [
    {
     "name": "stdout",
     "output_type": "stream",
     "text": [
      "                                                    text  ranking\n",
      "21492  copy vhs think television networks play every ...        0\n",
      "9488   several extremely well ratings point superb ex...        1\n",
      "16933  still know forced sit whole thing film worth m...        0\n",
      "12604  mt little sister self proclaimed horror movie ...        0\n",
      "8222   personally seen many disney movies lifetime th...        1\n",
      "9110   day california presidential primary midnight s...        1\n",
      "21196  unentertaining uninvolving hybrid cruel intent...        0\n",
      "17193  watched immediately seeing hillside cannibals ...        0\n",
      "23846  killings movie bad sure movie even worse even ...        0\n",
      "10415  aside great movie metropolis oldest pure sci f...        1\n",
      "9018   saw detroit must original run literally rolled...        1\n",
      "24056  holy crap movie bad watched joke even bad good...        0\n",
      "19992  br br cheap looking ugly film even seem entert...        0\n",
      "11464  like films school bullies brave children hilar...        1\n",
      "10641  movie smiling beginning end partly humor partl...        1\n",
      "7192   seem movie managed please lot people first man...        1\n",
      "2164   woody allen second movie set london tha tarot ...        1\n",
      "2277   credited variety one greatest documentaries ev...        1\n",
      "6038   movie everything makes bad movie worth watchin...        1\n",
      "15100  transylvania insignificant occasionally funny ...        0\n",
      "12112  agree movie little slow spots many scenes mund...        1\n",
      "23028  given lot horror films based premise one centr...        0\n",
      "23128  cedric kahn films character based rather actio...        0\n",
      "21519  movie steeped religion impossible separate rel...        0\n",
      "5221   another entry holiday horror category fills sh...        1\n",
      "15321  film sensational forward thinking politics dep...        0\n",
      "17858  film pia zadora special viewing reminded class...        0\n",
      "22558  secretary one cheesy cliched thrillers one sub...        0\n",
      "18400  cat nine tails il gatto nove code br br aspect...        0\n",
      "7385   one best genre saw twice yrs ago another oppor...        1\n",
      "...                                                  ...      ...\n",
      "18272  grown reading modesty blaise comics books trul...        0\n",
      "11742  playing kaddiddlehopper col san fernando etc m...        1\n",
      "17137  something female lead perfect life always want...        0\n",
      "19433  one worst movies seen shoddy camera work crapp...        0\n",
      "24535  proximity tells convict lowe thinks prison sta...        0\n",
      "16946  whatever name writer director locked away hope...        0\n",
      "22926  man wakes nightmare bats wife go desert picnic...        0\n",
      "24477  guess movie based kind true story two young gi...        0\n",
      "4764   since douglas macarthur affected human lives b...        1\n",
      "19946  far films go likable enough entertaining chara...        0\n",
      "8444   waited waited film come trailers seemed years ...        1\n",
      "18900  love memoirs geisha read book twice one best b...        0\n",
      "2962   earth must see children adults son great fun w...        1\n",
      "12645  almost every seagal movie yes even ones like l...        0\n",
      "21758  husband rented video store thinking suspense n...        0\n",
      "21780  ok admit watched movie mystery science theater...        0\n",
      "3462   film life triumph adversity wonders human spir...        1\n",
      "10989  say much kalifornia sadly yet actually see who...        1\n",
      "7751   karen sarah michelle gellar exchange student j...        1\n",
      "16332  might good movie explored something interestin...        0\n",
      "20609  first anyone thinks sequel william friedkin fr...        0\n",
      "144    stargate sg spin sorts movie stargate glad dec...        1\n",
      "21440  worst movie ever seen everyone involved embarr...        0\n",
      "19279  saw movie thought ok friends work said watch b...        0\n",
      "7813   read reviews kerching imdb frankly seen one po...        1\n",
      "10955  diane keaton gave outstanding performance rath...        1\n",
      "17289  creepiest twisted holiday film ever clapped ey...        0\n",
      "5192   expect depiction truth however accounts vetera...        1\n",
      "12172  league gentlemen one funniest strangest darkes...        1\n",
      "235    narratives whether written visual poetic epics...        1\n",
      "\n",
      "[25000 rows x 2 columns]\n",
      "                                                    text  ranking\n",
      "21152  saw city independent cinema surprise mainstrea...        0\n",
      "19765  wasted minutes life turkey gave main character...        0\n",
      "23001  low budget film set one location valley shield...        0\n",
      "14367  rented copy one netflix big mistake dvd versio...        0\n",
      "15593  updated version theme done bad movie reach rin...        0\n",
      "23841  got movie buy one get one deal troma com ruini...        0\n",
      "19336  internet surfing found homefront series dvd io...        0\n",
      "9023   house calls amusing comedy widowed doctor walt...        1\n",
      "13453  would recommend whatsoever like getting stuck ...        0\n",
      "24509  rented movie primarily meg ryan disappointed s...        0\n",
      "7337   aspects park movies particular wallace gromit ...        1\n",
      "15074  bad bad bad three lines sum crappy little film...        0\n",
      "10385  quite fan charlie chaplin following good vibes...        1\n",
      "24722  seriously get people like oh god step best mov...        0\n",
      "15747  like another reviewer wife bought movie part m...        0\n",
      "16231  seriously thought spoof saw rental store reali...        0\n",
      "23580  drivel utter junk writers must read book seen ...        0\n",
      "9448   adore film chemistry two leads miller carlisle...        1\n",
      "8758   credible unsettling movie portraying effects w...        1\n",
      "16125  oh dear gods awful stay away stay away think s...        0\n",
      "8357   film must quietly released side world perhaps ...        1\n",
      "6722   nazarin kind saint wants live life exactly chr...        1\n",
      "4916   hookers great everyday people story like someo...        1\n",
      "21468  sitting watching film tango cash led discussio...        0\n",
      "9359   june nd city przemysl poland divided german ru...        1\n",
      "1646   important fair remember time short produced st...        1\n",
      "1614   group obnoxious teens go former funeral parlor...        1\n",
      "22861  production insult stooges especially moe inacc...        0\n",
      "21319  terrible mean spirited full worst clich racial...        0\n",
      "6394   kite runner one modern epics one occasionally ...        1\n",
      "...                                                  ...      ...\n",
      "15855  even though one worst movies ever seen would r...        0\n",
      "13392  plot movie dangerously thin star power call co...        0\n",
      "5754   dylan bobby boyhood friends love way young boy...        1\n",
      "23898  trying write plot summary several minutes seem...        0\n",
      "18676  russian space station avna crew four russians ...        0\n",
      "17489  many bad reviewers made wonder people thinking...        0\n",
      "3465   magnificent many ways impressive film saw tv l...        1\n",
      "10943  excellent movie deal child raising fae watchin...        1\n",
      "21505  lame really best way describe movie real poor ...        0\n",
      "24352  see barry corbin cast movie never sure classic...        0\n",
      "1224   john schelesinger career film director extraor...        1\n",
      "14494  lot repetitive dialogue movie cold spots signa...        0\n",
      "18641  everyone read book fanny price ends maturing w...        0\n",
      "939    andrew davies adaptation sarah waters novel ex...        1\n",
      "8763   film offers one greatest experiences available...        1\n",
      "6058   good film john garfield plays another boxer be...        1\n",
      "16521  like lot movies involving little kids starts r...        0\n",
      "9055   ok finally horror film done well soon heard mu...        1\n",
      "19287  better early cronenberg horror films nothing b...        0\n",
      "17192  soccer fans every stay away movie baaaaddd lam...        0\n",
      "18924  poorly written badly directed short film pure ...        0\n",
      "6573   italian job requires daylight hours experience...        1\n",
      "8265   first half movie scared hell normally easy sca...        1\n",
      "3174   quite explain find alluring leopard may focus ...        1\n",
      "350    three stooges always many actors loved love ev...        1\n",
      "15536  one movies take bets die first survive end som...        0\n",
      "21639  sitting big wing chair huge book lap one bela ...        0\n",
      "15715  good grief think seen danny thomas looks place...        0\n",
      "21382  speak badly mostly think lacked something joe ...        0\n",
      "7225   son weekend parent called said wanted two us m...        1\n",
      "\n",
      "[25000 rows x 2 columns]\n"
     ]
    }
   ],
   "source": [
    "np.random.seed(1)\n",
    "\n",
    "# Random shuffle the rows in the Dataframe of the training dataset\n",
    "new_train_df = train_df.reindex(np.random.permutation(len(train_df)))\n",
    "print(new_train_df)\n",
    "\n",
    "# Random shuffle the rows in the Dataframe of the testing dataset\n",
    "new_test_df = test_df.reindex(np.random.permutation(len(test_df)))\n",
    "print(new_test_df)"
   ]
  },
  {
   "cell_type": "code",
   "execution_count": 4,
   "metadata": {},
   "outputs": [
    {
     "name": "stdout",
     "output_type": "stream",
     "text": [
      "Training review size (25000,), training label size (25000,)\n",
      "Testing review size (25000,), testing label size (25000,)\n"
     ]
    }
   ],
   "source": [
    "X_train = new_train_df['text']\n",
    "y_train = new_train_df['ranking']\n",
    "X_test = new_test_df['text']\n",
    "y_test = new_test_df['ranking']\n",
    "print(\"Training review size {}, training label size {}\".format(X_train.shape, y_train.shape))\n",
    "print(\"Testing review size {}, testing label size {}\".format(X_test.shape, y_test.shape))"
   ]
  },
  {
   "cell_type": "markdown",
   "metadata": {},
   "source": [
    "**Let's look at the review length -**\n",
    "when creating the word embedding layer in Keras, we need to pass length of sequences as a parameter."
   ]
  },
  {
   "cell_type": "code",
   "execution_count": 5,
   "metadata": {},
   "outputs": [
    {
     "data": {
      "text/plain": [
       "Text(0.5, 1.0, 'Review Length in Words for IMDB Training Dataset')"
      ]
     },
     "execution_count": 5,
     "metadata": {},
     "output_type": "execute_result"
    },
    {
     "data": {
      "image/png": "[encoded data removed]",
      "text/plain": [
       "<Figure size 432x288 with 1 Axes>"
      ]
     },
     "metadata": {
      "needs_background": "light"
     },
     "output_type": "display_data"
    }
   ],
   "source": [
    "review_length_train = [len(x.split()) for x in X_train]\n",
    "plt.hist(review_length_train)\n",
    "plt.xlabel(\"Review Length in Words\")\n",
    "plt.ylabel(\"Number of Reviews\")\n",
    "plt.title(\"Review Length in Words for IMDB Training Dataset\")"
   ]
  },
  {
   "cell_type": "code",
   "execution_count": 8,
   "metadata": {},
   "outputs": [
    {
     "data": {
      "text/plain": [
       "Text(0.5, 1.0, 'Review Length in Words for IMDB Training Dataset')"
      ]
     },
     "execution_count": 8,
     "metadata": {},
     "output_type": "execute_result"
    },
    {
     "data": {
      "image/png": "[encoded data removed]",
      "text/plain": [
       "<Figure size 432x288 with 1 Axes>"
      ]
     },
     "metadata": {
      "needs_background": "light"
     },
     "output_type": "display_data"
    }
   ],
   "source": [
    "plt.boxplot(review_length_train)\n",
    "plt.title(\"Review Length in Words for IMDB Training Dataset\")"
   ]
  },
  {
   "cell_type": "markdown",
   "metadata": {},
   "source": [
    "**Let's look at review length in boxplots to get an idea about the distribution of the data.**"
   ]
  },
  {
   "cell_type": "code",
   "execution_count": 9,
   "metadata": {},
   "outputs": [
    {
     "data": {
      "text/plain": [
       "Text(0.5, 1.0, 'Review Length in Words for IMDB Testing Dataset')"
      ]
     },
     "execution_count": 9,
     "metadata": {},
     "output_type": "execute_result"
    },
    {
     "data": {
      "image/png": "[encoded data removed]",
      "text/plain": [
       "<Figure size 432x288 with 1 Axes>"
      ]
     },
     "metadata": {
      "needs_background": "light"
     },
     "output_type": "display_data"
    }
   ],
   "source": [
    "review_length_test = [len(x.split()) for x in X_test]\n",
    "plt.hist(review_length_test)\n",
    "plt.xlabel(\"Review Length in Words\")\n",
    "plt.ylabel(\"Number of Reviews\")\n",
    "plt.title(\"Review Length in Words for IMDB Testing Dataset\")"
   ]
  },
  {
   "cell_type": "code",
   "execution_count": 10,
   "metadata": {},
   "outputs": [
    {
     "data": {
      "text/plain": [
       "Text(0.5, 1.0, 'Review Length in Words for IMDB Testing Dataset')"
      ]
     },
     "execution_count": 10,
     "metadata": {},
     "output_type": "execute_result"
    },
    {
     "data": {
      "image/png": "[encoded data removed]",
      "text/plain": [
       "<Figure size 432x288 with 1 Axes>"
      ]
     },
     "metadata": {
      "needs_background": "light"
     },
     "output_type": "display_data"
    }
   ],
   "source": [
    "plt.boxplot(review_length_test)\n",
    "plt.title(\"Review Length in Words for IMDB Testing Dataset\")"
   ]
  },
  {
   "cell_type": "code",
   "execution_count": 11,
   "metadata": {},
   "outputs": [
    {
     "name": "stdout",
     "output_type": "stream",
     "text": [
      "Mean of the review length in training set is: 123.28\n",
      "Median of the review length in training set is: 91.00\n",
      "Standard deviation of the review length in training set is: 93.50\n",
      "\n",
      "Mean of the review length in testing set is: 120.44\n",
      "Median of the review length in testing set is: 89.00\n",
      "Standard deviation of the review length in testing set is: 91.11\n"
     ]
    }
   ],
   "source": [
    "print(\"Mean of the review length in training set is: %.2f\" %np.mean(review_length_train))\n",
    "print(\"Median of the review length in training set is: %.2f\" %np.median(review_length_train))\n",
    "print(\"Standard deviation of the review length in training set is: %.2f\" %np.std(review_length_train))\n",
    "print()\n",
    "print(\"Mean of the review length in testing set is: %.2f\" %np.mean(review_length_test))\n",
    "print(\"Median of the review length in testing set is: %.2f\" %np.median(review_length_test))\n",
    "print(\"Standard deviation of the review length in testing set is: %.2f\" %np.std(review_length_test))"
   ]
  },
  {
   "cell_type": "markdown",
   "metadata": {},
   "source": [
    "**Observations:** Looks like most reviews are less than 500 words. The average review length is around 120 words. Set input length to 500 when creating word embedding should be fine."
   ]
  },
  {
   "cell_type": "code",
   "execution_count": 5,
   "metadata": {},
   "outputs": [
    {
     "name": "stdout",
     "output_type": "stream",
     "text": [
      "73101\n",
      "('br', 101872)\n",
      "('whelk', 1)\n"
     ]
    }
   ],
   "source": [
    "vocab_list = load_vocab('vocab.txt')\n",
    "\n",
    "print(len(vocab_list))\n",
    "print(vocab_list[0])\n",
    "print(vocab_list[-1])"
   ]
  },
  {
   "cell_type": "markdown",
   "metadata": {},
   "source": [
    "**Let's have some guess on the relationship between 'word frequency' and the learning of the models.**\n",
    "If we have 120 words in each review and 12,500 reviews (positive or negative) in total, we have around 1,500,000 occurrences of words in the training set. If a word occurs 150 times, it then contributes to 0.0001 of the total occurrences of the words. If a word occurs less than 15 times, it then contribute only 1e-5 (0.00001) to the total occurrences of the words - how likely the model will learn much from it? Or, if a word occurs less than 12 times (~0.1 % of 12,500), means we saw that word only in every 1000 reviews, can the model learn much from it?"
   ]
  },
  {
   "cell_type": "code",
   "execution_count": 15,
   "metadata": {},
   "outputs": [
    {
     "name": "stdout",
     "output_type": "stream",
     "text": [
      "Some statistic numbers for words in the training set:\n",
      "There are 1612 words with frequency count >= 300.\n",
      "There are 2943 words with frequency count >= 150.\n",
      "There are 4936 words with frequency count >= 80.\n",
      "There are 9998 words with frequency count >= 30.\n",
      "There are 19706 words with frequency count >= 10.\n",
      "There are 28600 words with frequency count >= 5.\n",
      "There are 32124 words with frequency count >= 4.\n",
      "There are 37233 words with frequency count >= 3.\n"
     ]
    }
   ],
   "source": [
    "# Let's print out some numbers to find out more on the frequency of the words in our training dataset.\n",
    "min_occurrences = [300, 150, 80, 30, 10, 5, 4, 3]\n",
    "\n",
    "print(\"Some statistic numbers for words in the training set:\")\n",
    "for i in range(len(min_occurrences)):\n",
    "    word_count = [count for (word, count) in vocab_list if count >= min_occurrences[i]]\n",
    "    print(\"There are {} words with frequency count >= {}.\".format(len(word_count), min_occurrences[i]))"
   ]
  },
  {
   "cell_type": "markdown",
   "metadata": {},
   "source": [
    "Our guess is: if our model only learn from top 10,000 words or even top 5,000 words - will that be good enough? Let's do some experiment later to confirm this! Another obversation is: more than half of the words (73101/2 ~ 36,550) occur less than 4 times."
   ]
  },
  {
   "cell_type": "code",
   "execution_count": 16,
   "metadata": {},
   "outputs": [
    {
     "data": {
      "text/plain": [
       "Text(0, 0.5, 'Number of Words')"
      ]
     },
     "execution_count": 16,
     "metadata": {},
     "output_type": "execute_result"
    },
    {
     "data": {
      "image/png": "[encoded data removed]",
      "text/plain": [
       "<Figure size 864x360 with 1 Axes>"
      ]
     },
     "metadata": {
      "needs_background": "light"
     },
     "output_type": "display_data"
    }
   ],
   "source": [
    "# Let's get the word frequency from vocab_list\n",
    "freq = [count for (word, count) in vocab_list]\n",
    "\n",
    "plt.figure(figsize=(12,5))\n",
    "plt.hist(freq[:500], bins=50, color='orange')\n",
    "plt.title(\"Frequency for Top 500 words\")\n",
    "plt.xlabel(\"Word Frequency Count\")\n",
    "plt.ylabel(\"Number of Words\")"
   ]
  },
  {
   "cell_type": "markdown",
   "metadata": {},
   "source": [
    "**Observations:** there are over 350 words with frequency count less than or equal to 2,000. There are only a few high frequency (count >=20,000) words."
   ]
  },
  {
   "cell_type": "code",
   "execution_count": 17,
   "metadata": {},
   "outputs": [
    {
     "data": {
      "text/plain": [
       "Text(0, 0.5, 'Number of Words')"
      ]
     },
     "execution_count": 17,
     "metadata": {},
     "output_type": "execute_result"
    },
    {
     "data": {
      "image/png": "[encoded data removed]",
      "text/plain": [
       "<Figure size 432x288 with 1 Axes>"
      ]
     },
     "metadata": {
      "needs_background": "light"
     },
     "output_type": "display_data"
    }
   ],
   "source": [
    "# Let's look at the frequency for words ranking from 5000 until 73,101 (the last word in our vocabulary)\n",
    "plt.hist(freq[5000:], color='orange')\n",
    "plt.title(\"Frequency for Words Ranking from 5,000 until 73,101\")\n",
    "plt.xlabel(\"Word Frequency Count\")\n",
    "plt.ylabel(\"Number of Words\")"
   ]
  },
  {
   "cell_type": "markdown",
   "metadata": {},
   "source": [
    "**Observations:** there are over 50,000 words with occurrence less than 10. The highest occurrence here is less than 80. If the word with that occurrence reflect a positive (or negative) sentiment, it only shows up 6 times in every 1,000 reviews. (80/12500 = 0.0064) - is that frequency high enough for model to learn? We will keep this information in mind."
   ]
  },
  {
   "cell_type": "markdown",
   "metadata": {},
   "source": [
    "## Algorithms and Techniques ##\n",
    "The algorithms and techniques used in our benchmark model are: Naïve Bayes with Bag of Words.\n",
    "\n",
    "The algorithms and techniques used in our advanced Deep Neural Network models are: word embedding, RNN, LSTM, and CNN. We will use two different approaches to construct the word embedding layer – there will be at least one model created for each approach. One approach uses trainable word embedding layer based on vocabulary/tokens generated from the training set (after text cleaning by us, and tokenizing by Keras tools) and the other approach uses pre-trained Glove (Global Vectors for Word Representation) glove.6B.50d (6B tokens, 400K vocab, uncased, 50-dimension vector) as word embedding layer. The models for potential solutions will include the following combinations of neural network layers – embedding layer, (optional convolutional layer and Maxpooling layer), LSTM layer(s), Dropout layer, and Dense layer. We will also create a reference models, which uses vocabulary generated/loaded by imdb.load_data API provided by Keras, to compare with our results. The training/testing data returned by imdb.load_load API are real-valued vectors that are ready to be used by Deep Neural Networks."
   ]
  },
  {
   "cell_type": "markdown",
   "metadata": {},
   "source": [
    "### The Bag of Words Representation ###\n",
    "Text Analysis is a major application field for machine learning algorithms. However the raw data, a sequence of symbols cannot be fed directly to the algorithms themselves as most of them expect numerical feature vectors with a fixed size rather than the raw text documents with variable length.\n",
    "\n",
    "To address this, scikit-learn provides utilities for the most common ways to extract numerical features from text content, namely:\n",
    "\n",
    "> -  tokenizing strings and giving an integer id for each possible token, for instance by using white-spaces and punctuation as token separators.\n",
    "> -  counting the occurrences of tokens in each document.\n",
    "> -  normalizing and weighting with diminishing importance tokens that occur in the majority of samples / documents.\n",
    "    \n",
    "In this scheme, features and samples are defined as follows:\n",
    "\n",
    "> -  each individual token occurrence frequency (normalized or not) is treated as a feature.\n",
    "> -  the vector of all the token frequencies for a given document is considered a multivariate sample.\n",
    "\n",
    "A corpus of documents can thus be represented by a matrix with one row per document and one column per token (e.g. word) occurring in the corpus.\n",
    "\n",
    "We call vectorization the general process of turning a collection of text documents into numerical feature vectors. This specific strategy (tokenization, counting and normalization) is called the Bag of Words or “Bag of n-grams” representation. Documents are described by word occurrences while completely ignoring the relative position information of the words in the document.\n",
    "\n",
    "Reference for above explanations: http://scikit-learn.org/stable/modules/feature_extraction.html"
   ]
  },
  {
   "cell_type": "markdown",
   "metadata": {},
   "source": [
    "### Word Embedding ###\n",
    "To use Deep Neural Network for text classification, we need to convert the words in reviews into real valued vectors – this is a popular technique when working with text. This is a technique where words are encoded as real-valued vectors in a high dimensional space, where the similarity between words in terms of meaning translates to closeness in the vector space.\n",
    "\n",
    "In Keras, the embedding matrix is represented as a \"layer\", and maps positive integers (indices corresponding to words) into dense vectors of fixed size (the embedding vectors). It can be trained or initialized with a pretrained embedding.  \n",
    "\n",
    "The `Embedding()` layer takes an integer matrix of size (batch size, max input length) as input. This corresponds to sentences converted into lists of indices (integers), as shown in the figure below.\n",
    "\n",
    "<img src=\"images/embedding1.png\" style=\"width:700px;height:250px;\">\n",
    "<caption><center> Figure 1: Embedding layer. This example shows the propagation of two examples through the embedding layer. Both have been post zero-padded to a length of `max_len=5`. The final dimension of the representation is  `(2,max_len,50)` because the word embeddings we are using are 50 dimensional. </center></caption>\n",
    "\n",
    "The largest integer (i.e. word index) in the input should be no larger than the vocabulary size. The layer outputs an array of shape (batch size, max input length, dimension of word vectors).\n",
    "\n",
    "Source of the picture: course \"Sequence Models\" by deeplearning.ai"
   ]
  },
  {
   "cell_type": "markdown",
   "metadata": {},
   "source": [
    "### Using Pre-Trained GloVe Embedding ###\n",
    "GloVe is an unsupervised learning algorithm for obtaining vector representations for words. Training is performed on aggregated global word-word co-occurrence statistics from a corpus. More descriptions about Glove can be found in the following 2 links:\n",
    "\n",
    "1. https://nlp.stanford.edu/pubs/glove.pdf\n",
    "2. https://nlp.stanford.edu/projects/glove/\n",
    "\n",
    "Citing some descriptions from the first link: A few years ago, Mikolov et al. introduced an evaluation scheme based on word analogies that examining not the scalar distance between word vectors (which was the primary method to evaluate the intrinsic quality of word representations), but rather their various dimensions of difference. For example, the analogy “king is to queen as man is to woman” should be encoded in the vector space by the vector equation king − queen = man − woman. This evaluation scheme favors models that produce dimensions of meaning, thereby capturing the multi-clustering idea of distributed representations. The two main model families for learning word vectors are: \n",
    "1. global matrix factorization methods, such as latent semantic analysis (LSA) \n",
    "2. local context window methods, such as the skip-gram model.\n",
    "\n",
    "Currently, both families suffer significant drawbacks. While methods like LSA efficiently leverage statistical information, they do relatively poorly on the word analogy task. Methods like skip-gram may do better on the analogy task, but they poorly utilize the statistics of the corpus since they train on separate local context windows instead of on global co-occurrence counts. Glove is a weighted least squares model that trains on global word-word co-occurrence counts and thus makes efficient use of statistics. Besides that, it is proved to have very good performance (high accuracy) on the word analogy dataset, which makes it an attrative choice of word embedding layer."
   ]
  },
  {
   "cell_type": "markdown",
   "metadata": {},
   "source": [
    "### Recurrent Neural Networks ###\n",
    "The idea behind RNNs is to make use of sequential information. In a traditional neural network, we assume that all inputs (and outputs) are independent of each other. But for many tasks that’s a very bad idea. If you want to predict the next word in a sentence you better know which words came before it. RNNs are called recurrent because they perform the same task for every element of a sequence, with the output being depended on the previous computations. Another way to think about RNNs is that they have a “memory” which captures information about what has been calculated so far. Because of the nature that the output of current time step is depending on the output from previous time step, RNN is a good choice in predicting trend in sequence (time-series) data like stock marketing price, and many NLP tasks such as text classification (sentiment analysis), machine translation, speech recognition, etc. Our model will be based on RNN networks. \n",
    "\n",
    "<img src=\"images/LSTM3-SimpleRNN_colah.png\" style=\"width:500;height:300px;\">\n",
    "<caption><center> Figure 1: The repeating module in a standard RNN </center></caption>\n",
    "\n",
    "Source of the picture: http://colah.github.io/posts/2015-08-Understanding-LSTMs/\n",
    "\n",
    "Reference for RNN: http://www.wildml.com/2015/09/recurrent-neural-networks-tutorial-part-1-introduction-to-rnns/\n"
   ]
  },
  {
   "cell_type": "markdown",
   "metadata": {},
   "source": [
    "### LSTM Networks ###\n",
    "\n",
    "Long short-term memory (LSTM) units are units of a recurrent neural network (RNN). A common LSTM unit is composed of a cell, an input (or update) gate, an output gate and a forget gate. The cell remembers values over arbitrary time intervals and the three gates regulate the flow of information into and out of the cell. LSTM networks are well-suited to classifying and making predictions based on time-series data, since there can be lags of unknown duration between important events in a time series. LSTMs were developed to deal with the vanishing gradient problems that can be encountered when training traditional RNNs.\n",
    "\n",
    "<img src=\"images/LSTM3-chain_colah.png\" style=\"width:500;height:400px;\">\n",
    "<caption><center> Figure 2: The repeating module in an LSTM network </center></caption>\n",
    "\n",
    "Source of the picture: http://colah.github.io/posts/2015-08-Understanding-LSTMs/\n",
    "\n",
    "Reference for LSTM network: https://en.wikipedia.org/wiki/Long_short-term_memory.\n",
    "\n",
    "Reference for sequence classification with LSTM: https://machinelearningmastery.com/sequence-classification-lstm-recurrent-neural-networks-python-keras/."
   ]
  },
  {
   "cell_type": "markdown",
   "metadata": {},
   "source": [
    "### Convolutional Neural Network and LSTM for Sequence Classification ###\n",
    "\n",
    "Convolutional neural networks excel at learning the spatial structure in input data. The IMDB review data does have a one-dimensional spatial structure in the sequence of words in reviews and the CNN may be able to pick out invariant features for good and bad sentiment. This learned spatial features may then be learned as sequences by an LSTM layer. Another advantage of using CNN is: it will greatly reduce the training time – especially when we have a large vocabulary and large dataset. \n",
    "\n",
    "Reference for using CNN in sentiment analysis:\n",
    "https://machinelearningmastery.com/sequence-classification-lstm-recurrent-neural-networks-python-keras/\n"
   ]
  },
  {
   "cell_type": "markdown",
   "metadata": {},
   "source": [
    "## Benchmark ##\n",
    "The benchmark result we will use in this project is the result from a Naïve Bayes classifier with “Bag of Words” algorithm. We will use CountVectorizer class in scikit-learn to fit (build a vocabulary) and transform (vectorize) the training text. We then use MultinomialNB classifier (a Naive Bayes classifier for multinomial models) to fit the training set and predict on the testing set. Naïve Bayes plus “Bag of Words” is the simplest but almost the most common model for NLP tasks. This combination should be suitable for our benchmark model."
   ]
  },
  {
   "cell_type": "markdown",
   "metadata": {},
   "source": [
    "# *III. Methodology* #\n",
    "## Implementation ##\n",
    "### Benchmark Model ###"
   ]
  },
  {
   "cell_type": "markdown",
   "metadata": {},
   "source": [
    "**Note:**\n",
    "1. We will use CountVectorizer class in scikit-learn which implements both tokenization and occurrence counting. It's a common vectorizer which uses \"Bag of Words\" technology. \n",
    "2. We've tried several different numbers for max_features based on the word frequency observed eariler. The following are the test accuracy data:\n",
    "> -  Max_features: 5,000           Test accuracy: 83.96\n",
    "> -  Max_features: 10,000          Test accuracy: 83.62\n",
    "> -  Max_features: 20,000          Test accuracy: 83.08\n",
    "> -  Max_features: 30,000          Test accuracy: 82.65\n",
    "> -  Max_features: 40,000          Test accuracy: 82.56\n",
    "\n",
    "We will use top 5,000 words in our Deep Neural Network models as well."
   ]
  },
  {
   "cell_type": "code",
   "execution_count": 6,
   "metadata": {},
   "outputs": [
    {
     "name": "stdout",
     "output_type": "stream",
     "text": [
      "Test accuracy on the IMDB dataset: 83.96\n"
     ]
    }
   ],
   "source": [
    "# Transform each text into a vector of word counts\n",
    "vectorizer = CountVectorizer(max_features=5000)\n",
    "\n",
    "training_features = vectorizer.fit_transform(X_train) \n",
    "test_features = vectorizer.transform(X_test)\n",
    "\n",
    "# Training\n",
    "model = MultinomialNB()\n",
    "model.fit(training_features, y_train)\n",
    "y_pred = model.predict(test_features)\n",
    "\n",
    "# Evaluation\n",
    "acc = accuracy_score(y_test, y_pred)\n",
    "\n",
    "print(\"Test accuracy on the IMDB dataset: {:.2f}\".format(acc*100))"
   ]
  },
  {
   "cell_type": "markdown",
   "metadata": {},
   "source": [
    "### Trainable word embedding  plus RNN/LSTM ###"
   ]
  },
  {
   "cell_type": "markdown",
   "metadata": {},
   "source": [
    "**Note:**\n",
    "1. Let's set the vocabulary_size to 5000 according to the parameters applied on the benchmark model when it achieves the best test accuracy.\n",
    "2. Let's set the maxLen (maximum input length) to 500 according to the visualization results.\n",
    "3. The Glove word representation file we have uses 50-dimension word vector. Set embedding_vecor_length to 50 so we may compare the trainable word embedding with the pre-trained word embedding."
   ]
  },
  {
   "cell_type": "code",
   "execution_count": 7,
   "metadata": {},
   "outputs": [],
   "source": [
    "vocabulary_size = 5000\n",
    "maxLen = 500\n",
    "embedding_vector_length = 50"
   ]
  },
  {
   "cell_type": "markdown",
   "metadata": {},
   "source": [
    "**Note:** Tokenizer is a class in Keras for vectorizing texts, or/and turning texts into sequences (=list of word indexes, where the word of rank i in the dataset (starting at 1) has index i) - the vocabulary generated by Tokenizor class is ordered by the word frequency."
   ]
  },
  {
   "cell_type": "code",
   "execution_count": 8,
   "metadata": {},
   "outputs": [],
   "source": [
    "tokenizer = Tokenizer(num_words= vocabulary_size)\n",
    "tokenizer.fit_on_texts(X_train)\n",
    "X_train_sequences = tokenizer.texts_to_sequences(X_train)\n",
    "X_train_data = pad_sequences(X_train_sequences, maxlen=maxLen)\n",
    "\n",
    "X_test_sequences = tokenizer.texts_to_sequences(X_test)\n",
    "X_test_data = pad_sequences(X_test_sequences, maxlen=maxLen)"
   ]
  },
  {
   "cell_type": "markdown",
   "metadata": {},
   "source": [
    "#### Model 1: Simple LSTM - the Initial Model for Recurrent Neural Networks ####"
   ]
  },
  {
   "cell_type": "markdown",
   "metadata": {},
   "source": [
    "**Note:**\n",
    "Use an LSTM with 100 hidden units. The common choices for hidden unit size are 100/128. We use 100 here."
   ]
  },
  {
   "cell_type": "code",
   "execution_count": 59,
   "metadata": {},
   "outputs": [
    {
     "name": "stdout",
     "output_type": "stream",
     "text": [
      "_________________________________________________________________\n",
      "Layer (type)                 Output Shape              Param #   \n",
      "=================================================================\n",
      "embedding_14 (Embedding)     (None, 500, 50)           250000    \n",
      "_________________________________________________________________\n",
      "lstm_14 (LSTM)               (None, 100)               60400     \n",
      "_________________________________________________________________\n",
      "dense_14 (Dense)             (None, 1)                 101       \n",
      "=================================================================\n",
      "Total params: 310,501\n",
      "Trainable params: 310,501\n",
      "Non-trainable params: 0\n",
      "_________________________________________________________________\n",
      "None\n"
     ]
    }
   ],
   "source": [
    "model_token1 = Sequential()\n",
    "model_token1.add(Embedding(vocabulary_size, embedding_vecor_length, input_length=maxLen))\n",
    "model_token1.add(LSTM(100))\n",
    "model_token1.add(Dense(1, activation='sigmoid'))\n",
    "model_token1.compile(loss='binary_crossentropy', optimizer='adam', metrics=['accuracy'])\n",
    "print(model_token1.summary())"
   ]
  },
  {
   "cell_type": "code",
   "execution_count": 60,
   "metadata": {},
   "outputs": [
    {
     "name": "stdout",
     "output_type": "stream",
     "text": [
      "Epoch 1/3\n",
      "25000/25000 [==============================] - 501s 20ms/step - loss: 0.4891 - acc: 0.7652\n",
      "Epoch 2/3\n",
      "25000/25000 [==============================] - 529s 21ms/step - loss: 0.2606 - acc: 0.8988\n",
      "Epoch 3/3\n",
      "25000/25000 [==============================] - 496s 20ms/step - loss: 0.2154 - acc: 0.9206\n"
     ]
    },
    {
     "data": {
      "text/plain": [
       "<keras.callbacks.History at 0x1e9a4e848d0>"
      ]
     },
     "execution_count": 60,
     "metadata": {},
     "output_type": "execute_result"
    }
   ],
   "source": [
    "model_token1.fit(X_train_data, np.array(y_train), epochs = 3, batch_size = 128)"
   ]
  },
  {
   "cell_type": "code",
   "execution_count": 61,
   "metadata": {},
   "outputs": [
    {
     "name": "stdout",
     "output_type": "stream",
     "text": [
      "25000/25000 [==============================] - 129s 5ms/step\n",
      "\n",
      "Test accuracy =  0.87188\n"
     ]
    }
   ],
   "source": [
    "loss, acc = model_token1.evaluate(X_test_data, np.array(y_test))\n",
    "print()\n",
    "print(\"Test accuracy = \", acc)"
   ]
  },
  {
   "cell_type": "markdown",
   "metadata": {},
   "source": [
    "#### Model 2: LSTM with Dropout ####"
   ]
  },
  {
   "cell_type": "markdown",
   "metadata": {},
   "source": [
    "**Note:** Neural Network sometimes have the problem of overfitting. Dropout can be applied between layers using Dropout layer in Keras. Dropout rate 0.2~0.5 are common choices. We use dropout rate 0.2 and 0.3 for the first and second dropout layer respectively."
   ]
  },
  {
   "cell_type": "code",
   "execution_count": 87,
   "metadata": {},
   "outputs": [
    {
     "name": "stdout",
     "output_type": "stream",
     "text": [
      "_________________________________________________________________\n",
      "Layer (type)                 Output Shape              Param #   \n",
      "=================================================================\n",
      "embedding_19 (Embedding)     (None, 500, 50)           250000    \n",
      "_________________________________________________________________\n",
      "dropout_19 (Dropout)         (None, 500, 50)           0         \n",
      "_________________________________________________________________\n",
      "lstm_21 (LSTM)               (None, 100)               60400     \n",
      "_________________________________________________________________\n",
      "dropout_20 (Dropout)         (None, 100)               0         \n",
      "_________________________________________________________________\n",
      "dense_19 (Dense)             (None, 1)                 101       \n",
      "=================================================================\n",
      "Total params: 310,501\n",
      "Trainable params: 310,501\n",
      "Non-trainable params: 0\n",
      "_________________________________________________________________\n",
      "None\n"
     ]
    }
   ],
   "source": [
    "model_token2 = Sequential()\n",
    "model_token2.add(Embedding(vocabulary_size, embedding_vecor_length, input_length=maxLen))\n",
    "model_token2.add(Dropout(0.2))\n",
    "model_token2.add(LSTM(100))\n",
    "model_token2.add(Dropout(0.3))\n",
    "model_token2.add(Dense(1, activation='sigmoid'))\n",
    "model_token2.compile(loss='binary_crossentropy', optimizer='adam', metrics=['accuracy'])\n",
    "print(model_token2.summary())"
   ]
  },
  {
   "cell_type": "code",
   "execution_count": 88,
   "metadata": {},
   "outputs": [
    {
     "name": "stdout",
     "output_type": "stream",
     "text": [
      "Epoch 1/3\n",
      "25000/25000 [==============================] - 631s 25ms/step - loss: 0.5291 - acc: 0.7481\n",
      "Epoch 2/3\n",
      "25000/25000 [==============================] - 630s 25ms/step - loss: 0.2659 - acc: 0.8960\n",
      "Epoch 3/3\n",
      "25000/25000 [==============================] - 641s 26ms/step - loss: 0.2195 - acc: 0.9172\n"
     ]
    },
    {
     "data": {
      "text/plain": [
       "<keras.callbacks.History at 0x1e9fc9d3978>"
      ]
     },
     "execution_count": 88,
     "metadata": {},
     "output_type": "execute_result"
    }
   ],
   "source": [
    "model_token2.fit(X_train_data, np.array(y_train), epochs = 3, batch_size = 128)"
   ]
  },
  {
   "cell_type": "code",
   "execution_count": 89,
   "metadata": {},
   "outputs": [
    {
     "name": "stdout",
     "output_type": "stream",
     "text": [
      "25000/25000 [==============================] - 149s 6ms/step\n",
      "\n",
      "Test accuracy =  0.87216\n"
     ]
    }
   ],
   "source": [
    "loss, acc = model_token2.evaluate(X_test_data, np.array(y_test))\n",
    "print()\n",
    "print(\"Test accuracy = \", acc)"
   ]
  },
  {
   "cell_type": "markdown",
   "metadata": {},
   "source": [
    "#### Model 3: CNN, LSTM with Dropout ####"
   ]
  },
  {
   "cell_type": "markdown",
   "metadata": {},
   "source": [
    "**Note:**\n",
    "As discussed in \"Algorithms and Techniques\" section, we may apply CNN plus LSTM on NLP tasks. We use Conv1D with the common parameter settings: filter_size=32, kernal_size=3 (2, 3, 5 are common choices for kernel size), padding = 'same', activation='relu'. We use a MaxPooling1D with pool_size=2 (which is also a common choice for pool_size). We then add a LSTM with 100 hidden units (common choices), and Dropout layer with dropout rate 0.3 (common choices) and finally a Dense layer."
   ]
  },
  {
   "cell_type": "code",
   "execution_count": 65,
   "metadata": {},
   "outputs": [
    {
     "name": "stdout",
     "output_type": "stream",
     "text": [
      "_________________________________________________________________\n",
      "Layer (type)                 Output Shape              Param #   \n",
      "=================================================================\n",
      "embedding_16 (Embedding)     (None, 500, 50)           250000    \n",
      "_________________________________________________________________\n",
      "conv1d_4 (Conv1D)            (None, 500, 32)           4832      \n",
      "_________________________________________________________________\n",
      "max_pooling1d_4 (MaxPooling1 (None, 250, 32)           0         \n",
      "_________________________________________________________________\n",
      "lstm_16 (LSTM)               (None, 100)               53200     \n",
      "_________________________________________________________________\n",
      "dropout_14 (Dropout)         (None, 100)               0         \n",
      "_________________________________________________________________\n",
      "dense_16 (Dense)             (None, 1)                 101       \n",
      "=================================================================\n",
      "Total params: 308,133\n",
      "Trainable params: 308,133\n",
      "Non-trainable params: 0\n",
      "_________________________________________________________________\n"
     ]
    }
   ],
   "source": [
    "model_token3 = Sequential()\n",
    "model_token3.add(Embedding(vocabulary_size, embedding_vecor_length, input_length=maxLen))\n",
    "model_token3.add(Conv1D(32, 3, padding='same', activation='relu'))\n",
    "model_token3.add(MaxPooling1D(pool_size=2))\n",
    "model_token3.add(LSTM(100))\n",
    "model_token3.add(Dropout(0.3))\n",
    "model_token3.add(Dense(1, activation='sigmoid'))\n",
    "model_token3.compile(loss='binary_crossentropy', optimizer='adam', metrics=['accuracy'])\n",
    "model_token3.summary()"
   ]
  },
  {
   "cell_type": "code",
   "execution_count": 66,
   "metadata": {},
   "outputs": [
    {
     "name": "stdout",
     "output_type": "stream",
     "text": [
      "Epoch 1/3\n",
      "25000/25000 [==============================] - 578s 23ms/step - loss: 0.4251 - acc: 0.7876\n",
      "Epoch 2/3\n",
      "25000/25000 [==============================] - 577s 23ms/step - loss: 0.2382 - acc: 0.9099\n",
      "Epoch 3/3\n",
      "25000/25000 [==============================] - 575s 23ms/step - loss: 0.1978 - acc: 0.9272\n"
     ]
    },
    {
     "data": {
      "text/plain": [
       "<keras.callbacks.History at 0x1e9ad507e80>"
      ]
     },
     "execution_count": 66,
     "metadata": {},
     "output_type": "execute_result"
    }
   ],
   "source": [
    "model_token3.fit(X_train_data, np.array(y_train), epochs = 3, batch_size = 128)"
   ]
  },
  {
   "cell_type": "code",
   "execution_count": 67,
   "metadata": {},
   "outputs": [
    {
     "name": "stdout",
     "output_type": "stream",
     "text": [
      "25000/25000 [==============================] - 75s 3ms/step\n",
      "\n",
      "Test accuracy =  0.86428\n"
     ]
    }
   ],
   "source": [
    "loss, acc = model_token3.evaluate(X_test_data, np.array(y_test))\n",
    "print()\n",
    "print(\"Test accuracy = \", acc)"
   ]
  },
  {
   "cell_type": "markdown",
   "metadata": {},
   "source": [
    "#### Model 4: Multiple LSTM Layers ####"
   ]
  },
  {
   "cell_type": "markdown",
   "metadata": {},
   "source": [
    "We stack up 2 LSTM layers, each one has 100 hidden units and followed by a Dropout layer. **Note:** We need to set \"return_sequences\" to \"True\" for the first LSTM layer and \"False\" for the second LSTM layer. This is because we want the first LSTM layer return the full sequences and the second LSTM layer return the last output only.  "
   ]
  },
  {
   "cell_type": "code",
   "execution_count": 70,
   "metadata": {},
   "outputs": [
    {
     "name": "stdout",
     "output_type": "stream",
     "text": [
      "_________________________________________________________________\n",
      "Layer (type)                 Output Shape              Param #   \n",
      "=================================================================\n",
      "embedding_18 (Embedding)     (None, 500, 50)           250000    \n",
      "_________________________________________________________________\n",
      "lstm_19 (LSTM)               (None, 500, 100)          60400     \n",
      "_________________________________________________________________\n",
      "dropout_17 (Dropout)         (None, 500, 100)          0         \n",
      "_________________________________________________________________\n",
      "lstm_20 (LSTM)               (None, 100)               80400     \n",
      "_________________________________________________________________\n",
      "dropout_18 (Dropout)         (None, 100)               0         \n",
      "_________________________________________________________________\n",
      "dense_18 (Dense)             (None, 1)                 101       \n",
      "=================================================================\n",
      "Total params: 390,901\n",
      "Trainable params: 390,901\n",
      "Non-trainable params: 0\n",
      "_________________________________________________________________\n",
      "None\n"
     ]
    }
   ],
   "source": [
    "model_token4 = Sequential()\n",
    "model_token4.add(Embedding(vocabulary_size, embedding_vecor_length, input_length=maxLen))\n",
    "model_token4.add(LSTM(100, return_sequences=True))\n",
    "model_token4.add(Dropout(0.2))\n",
    "model_token4.add(LSTM(100, return_sequences=False))\n",
    "model_token4.add(Dropout(0.2))\n",
    "model_token4.add(Dense(1, activation='sigmoid'))\n",
    "model_token4.compile(loss='binary_crossentropy', optimizer='adam', metrics=['accuracy'])\n",
    "print(model_token4.summary())"
   ]
  },
  {
   "cell_type": "code",
   "execution_count": 71,
   "metadata": {},
   "outputs": [
    {
     "name": "stdout",
     "output_type": "stream",
     "text": [
      "Epoch 1/3\n",
      "25000/25000 [==============================] - 1470s 59ms/step - loss: 0.4007 - acc: 0.8117\n",
      "Epoch 2/3\n",
      "25000/25000 [==============================] - 1636s 65ms/step - loss: 0.2508 - acc: 0.9011\n",
      "Epoch 3/3\n",
      "25000/25000 [==============================] - 1541s 62ms/step - loss: 0.2171 - acc: 0.9175\n"
     ]
    },
    {
     "data": {
      "text/plain": [
       "<keras.callbacks.History at 0x1e9e6c6fba8>"
      ]
     },
     "execution_count": 71,
     "metadata": {},
     "output_type": "execute_result"
    }
   ],
   "source": [
    "model_token4.fit(X_train_data, np.array(y_train), epochs = 3, batch_size = 128)"
   ]
  },
  {
   "cell_type": "code",
   "execution_count": 72,
   "metadata": {},
   "outputs": [
    {
     "name": "stdout",
     "output_type": "stream",
     "text": [
      "25000/25000 [==============================] - 251s 10ms/step\n",
      "\n",
      "Test accuracy =  0.86604\n"
     ]
    }
   ],
   "source": [
    "loss, acc = model_token4.evaluate(X_test_data, np.array(y_test))\n",
    "print()\n",
    "print(\"Test accuracy = \", acc)"
   ]
  },
  {
   "cell_type": "markdown",
   "metadata": {},
   "source": [
    "**Observation:** It seems that model 2 has the best test accuracy so far."
   ]
  },
  {
   "cell_type": "markdown",
   "metadata": {},
   "source": [
    "### Pre-trained Glove + RNN (LSTM) ###"
   ]
  },
  {
   "cell_type": "markdown",
   "metadata": {},
   "source": [
    "We will use \"glove.6B.50d.txt\" (6B tokens, 400K vocab, uncased, 50-dimensions vector) file for word embedding layers in Keras. Each line of the file is in this format: “word word_vec” – a word followed by 50 float point numbers (which are the 50-dimensions word vector).\n",
    "The following function read in the contents of the Glove file, build 3 data structures - word_to_vec_map (a directory maps from word to word vector), word_to_index (a directory maps from word to index) and index_to_word (a directory maps from index to word), and return those data structures."
   ]
  },
  {
   "cell_type": "code",
   "execution_count": 9,
   "metadata": {},
   "outputs": [],
   "source": [
    "def read_glove_vecs(glove_file):\n",
    "    with open(glove_file, 'r', encoding='utf-8') as f:\n",
    "        words = set()\n",
    "        word_to_vec_map = {}\n",
    "        for line in f:\n",
    "            line = line.strip().split()\n",
    "            curr_word = line[0]\n",
    "            words.add(curr_word)\n",
    "            word_to_vec_map[curr_word] = np.array(line[1:], dtype=np.float64)\n",
    "        \n",
    "        i = 1\n",
    "        words_to_index = {}\n",
    "        index_to_words = {}\n",
    "        for w in sorted(words):\n",
    "            words_to_index[w] = i\n",
    "            index_to_words[i] = w\n",
    "            i = i + 1\n",
    "    return words_to_index, index_to_words, word_to_vec_map"
   ]
  },
  {
   "cell_type": "code",
   "execution_count": 10,
   "metadata": {},
   "outputs": [],
   "source": [
    "word_to_index, index_to_word, word_to_vec_map = read_glove_vecs('input/glove.6B.50d.txt')"
   ]
  },
  {
   "cell_type": "markdown",
   "metadata": {},
   "source": [
    "Create the embedding matrix which will be used in Keras Embedding API. **Note:** We will use the tokenizer object created eariler. The tokenizer object has been fitted to the training set - the training sequences (=list of word indexes, where the word of rank i in the dataset (starting at 1) has index i) has been generated. We will set each row \"index\" of the embedding matrix to be the word vector of the \"index\"th word of the vocabulary.\n",
    "\n",
    "**Two good things for this model:**\n",
    "> -  We take the advantage of using the tokenizer created earlier which already has the vocabulary, word occurrence count, indexes to the word (according to the frequency of the word) set up for us.\n",
    "> - The vocabulary in our Glove file is very large. If we want to use the whole vocabulary in that file, it will take a long time to train the model.\n",
    "\n",
    "The use of the pre-trained word embedding is inspired by an example in this link:\n",
    "\n",
    "https://github.com/keras-team/keras/blob/master/examples/pretrained_word_embeddings.py"
   ]
  },
  {
   "cell_type": "code",
   "execution_count": 10,
   "metadata": {},
   "outputs": [],
   "source": [
    "vocab_len = vocabulary_size                  \n",
    "emb_dim = word_to_vec_map[\"cucumber\"].shape[0]      # define dimensionality of the GloVe word vectors (= 50)\n",
    "\n",
    "# Initialize the embedding matrix as a numpy array of zeros of shape (vocab_len, dimensions of word vectors = emb_dim)\n",
    "emb_matrix = np.zeros((vocab_len, emb_dim))\n",
    "    \n",
    "# Set each row \"index\" of the embedding matrix to be the word vector representation of the \"index\"th word of the vocabulary\n",
    "# Note: We will use the tokenizer object reated eariler by Keras. This tokenizer has been fitted to the training set and has the \n",
    "#       vocabulary built. There is a word_index dictionary which maps words (str) to their rank/index (int).\n",
    "#\n",
    "for word, index in tokenizer.word_index.items():\n",
    "    if index < vocab_len: # Do this only if the rank of the word < vocabulary_size specified\n",
    "        embedding_vector = word_to_vec_map.get(word)\n",
    "        if embedding_vector is not None:\n",
    "            emb_matrix[index] = embedding_vector"
   ]
  },
  {
   "cell_type": "code",
   "execution_count": 11,
   "metadata": {},
   "outputs": [
    {
     "data": {
      "text/plain": [
       "(5000, 50)"
      ]
     },
     "execution_count": 11,
     "metadata": {},
     "output_type": "execute_result"
    }
   ],
   "source": [
    "emb_matrix.shape"
   ]
  },
  {
   "cell_type": "markdown",
   "metadata": {},
   "source": [
    "#### Model 5: Glove, CNN  and LSTM ####"
   ]
  },
  {
   "cell_type": "markdown",
   "metadata": {},
   "source": [
    "**Note:** Use the same architectures as model 2 except using the pre-trained Glove as the word embedding layer."
   ]
  },
  {
   "cell_type": "code",
   "execution_count": 12,
   "metadata": {},
   "outputs": [
    {
     "name": "stdout",
     "output_type": "stream",
     "text": [
      "_________________________________________________________________\n",
      "Layer (type)                 Output Shape              Param #   \n",
      "=================================================================\n",
      "embedding_1 (Embedding)      (None, 500, 50)           250000    \n",
      "_________________________________________________________________\n",
      "dropout_1 (Dropout)          (None, 500, 50)           0         \n",
      "_________________________________________________________________\n",
      "lstm_1 (LSTM)                (None, 100)               60400     \n",
      "_________________________________________________________________\n",
      "dropout_2 (Dropout)          (None, 100)               0         \n",
      "_________________________________________________________________\n",
      "dense_1 (Dense)              (None, 1)                 101       \n",
      "=================================================================\n",
      "Total params: 310,501\n",
      "Trainable params: 60,501\n",
      "Non-trainable params: 250,000\n",
      "_________________________________________________________________\n"
     ]
    }
   ],
   "source": [
    "maxLen = 500\n",
    "\n",
    "## create model\n",
    "model_glove1 = Sequential()\n",
    "model_glove1.add(Embedding(vocab_len, 50, input_length=maxLen, weights=[emb_matrix], trainable=False))\n",
    "model_glove1.add(Dropout(0.2))\n",
    "model_glove1.add(LSTM(100))\n",
    "model_glove1.add(Dropout(0.3))\n",
    "model_glove1.add(Dense(1, activation='sigmoid'))\n",
    "model_glove1.compile(loss='binary_crossentropy', optimizer='adam', metrics=['accuracy'])\n",
    "model_glove1.summary()"
   ]
  },
  {
   "cell_type": "code",
   "execution_count": 13,
   "metadata": {},
   "outputs": [
    {
     "name": "stdout",
     "output_type": "stream",
     "text": [
      "Epoch 1/30\n",
      "25000/25000 [==============================] - 413s 17ms/step - loss: 0.5613 - acc: 0.7071\n",
      "Epoch 2/30\n",
      "25000/25000 [==============================] - 460s 18ms/step - loss: 0.4914 - acc: 0.7648\n",
      "Epoch 3/30\n",
      "25000/25000 [==============================] - 454s 18ms/step - loss: 0.4492 - acc: 0.7912\n",
      "Epoch 4/30\n",
      "25000/25000 [==============================] - 454s 18ms/step - loss: 0.4162 - acc: 0.8132\n",
      "Epoch 5/30\n",
      "25000/25000 [==============================] - 468s 19ms/step - loss: 0.4010 - acc: 0.8178\n",
      "Epoch 6/30\n",
      "25000/25000 [==============================] - 455s 18ms/step - loss: 0.3918 - acc: 0.8255\n",
      "Epoch 7/30\n",
      "25000/25000 [==============================] - 455s 18ms/step - loss: 0.3806 - acc: 0.8314\n",
      "Epoch 8/30\n",
      "25000/25000 [==============================] - 473s 19ms/step - loss: 0.3684 - acc: 0.8398\n",
      "Epoch 9/30\n",
      "25000/25000 [==============================] - 550s 22ms/step - loss: 0.3653 - acc: 0.8397\n",
      "Epoch 10/30\n",
      "25000/25000 [==============================] - 505s 20ms/step - loss: 0.3576 - acc: 0.8437\n",
      "Epoch 11/30\n",
      "25000/25000 [==============================] - 477s 19ms/step - loss: 0.3561 - acc: 0.8445\n",
      "Epoch 12/30\n",
      "25000/25000 [==============================] - 479s 19ms/step - loss: 0.3509 - acc: 0.8462\n",
      "Epoch 13/30\n",
      "25000/25000 [==============================] - 462s 18ms/step - loss: 0.3365 - acc: 0.8556\n",
      "Epoch 14/30\n",
      "25000/25000 [==============================] - 458s 18ms/step - loss: 0.3391 - acc: 0.8546\n",
      "Epoch 15/30\n",
      "25000/25000 [==============================] - 460s 18ms/step - loss: 0.3242 - acc: 0.8590\n",
      "Epoch 16/30\n",
      "25000/25000 [==============================] - 458s 18ms/step - loss: 0.3186 - acc: 0.8634\n",
      "Epoch 17/30\n",
      "25000/25000 [==============================] - 456s 18ms/step - loss: 0.3175 - acc: 0.8644\n",
      "Epoch 18/30\n",
      "25000/25000 [==============================] - 476s 19ms/step - loss: 0.3095 - acc: 0.8663\n",
      "Epoch 19/30\n",
      "25000/25000 [==============================] - 460s 18ms/step - loss: 0.3033 - acc: 0.8705\n",
      "Epoch 20/30\n",
      "25000/25000 [==============================] - 474s 19ms/step - loss: 0.2930 - acc: 0.8752\n",
      "Epoch 21/30\n",
      "25000/25000 [==============================] - 461s 18ms/step - loss: 0.2926 - acc: 0.8768\n",
      "Epoch 22/30\n",
      "25000/25000 [==============================] - 461s 18ms/step - loss: 0.2857 - acc: 0.8807\n",
      "Epoch 23/30\n",
      "25000/25000 [==============================] - 461s 18ms/step - loss: 0.2821 - acc: 0.8815\n",
      "Epoch 24/30\n",
      "25000/25000 [==============================] - 460s 18ms/step - loss: 0.2776 - acc: 0.8832\n",
      "Epoch 25/30\n",
      "25000/25000 [==============================] - 473s 19ms/step - loss: 0.2698 - acc: 0.8873\n",
      "Epoch 26/30\n",
      "25000/25000 [==============================] - 463s 19ms/step - loss: 0.2646 - acc: 0.8889\n",
      "Epoch 27/30\n",
      "25000/25000 [==============================] - 461s 18ms/step - loss: 0.2554 - acc: 0.8943\n",
      "Epoch 28/30\n",
      "25000/25000 [==============================] - 462s 18ms/step - loss: 0.2526 - acc: 0.8942\n",
      "Epoch 29/30\n",
      "25000/25000 [==============================] - 464s 19ms/step - loss: 0.2514 - acc: 0.8943\n",
      "Epoch 30/30\n",
      "25000/25000 [==============================] - 463s 19ms/step - loss: 0.2429 - acc: 0.8984\n"
     ]
    },
    {
     "data": {
      "text/plain": [
       "<keras.callbacks.History at 0x1e0237ddb70>"
      ]
     },
     "execution_count": 13,
     "metadata": {},
     "output_type": "execute_result"
    }
   ],
   "source": [
    "model_glove1.fit(X_train_data, np.array(y_train), epochs = 30, batch_size = 128)"
   ]
  },
  {
   "cell_type": "code",
   "execution_count": 14,
   "metadata": {},
   "outputs": [
    {
     "name": "stdout",
     "output_type": "stream",
     "text": [
      "25000/25000 [==============================] - 128s 5ms/step\n",
      "\n",
      "Test accuracy =  0.862\n"
     ]
    }
   ],
   "source": [
    "loss, acc = model_glove1.evaluate(X_test_data, np.array(y_test))\n",
    "print()\n",
    "print(\"Test accuracy = \", acc)"
   ]
  },
  {
   "cell_type": "markdown",
   "metadata": {},
   "source": [
    "**Observation:** Model 2 performs better than the Glove model."
   ]
  },
  {
   "cell_type": "markdown",
   "metadata": {},
   "source": [
    "# *IV. Results* #"
   ]
  },
  {
   "cell_type": "markdown",
   "metadata": {},
   "source": [
    "## Model Evaluation and Validation"
   ]
  },
  {
   "cell_type": "markdown",
   "metadata": {},
   "source": [
    "**Note:**\n",
    "We will use Keras built-in API imdb.load_data() to load training/testing dataset. This API has converted training/testing dataset to numbers which are ready to be used by Deep Neural Network."
   ]
  },
  {
   "cell_type": "code",
   "execution_count": 12,
   "metadata": {},
   "outputs": [
    {
     "name": "stdout",
     "output_type": "stream",
     "text": [
      "(25000,)\n",
      "(25000,)\n"
     ]
    }
   ],
   "source": [
    "# Use imdb.load_data() to load X_train, y_train, X_test, y_test.\n",
    "# Note: X_train_imdb and X_test_imdb have been converted to numbers which are index to vocabulary\n",
    "(X_train_imdb, y_train_imdb), (X_test_imdb, y_test_imdb) = imdb.load_data()\n",
    "print(X_train_imdb.shape)\n",
    "print(y_train_imdb.shape)"
   ]
  },
  {
   "cell_type": "code",
   "execution_count": 13,
   "metadata": {},
   "outputs": [
    {
     "name": "stdout",
     "output_type": "stream",
     "text": [
      "Number of words: \n",
      "88585\n"
     ]
    }
   ],
   "source": [
    "# Find out number of words in training set\n",
    "print(\"Number of words: \")\n",
    "print(len(np.unique(np.hstack(X_train_imdb))))"
   ]
  },
  {
   "cell_type": "markdown",
   "metadata": {},
   "source": [
    "**Obversation:** \n",
    "    X_train_imdb has different number of words than the X_train prepared by us (based on the cleaned text from the input files).\n",
    "    This is **good - this means we have a different training set now!** We may built a model same as our final model (model 2 \n",
    "    created above), feed in different data and see if our model is robust enough."
   ]
  },
  {
   "cell_type": "code",
   "execution_count": 2,
   "metadata": {},
   "outputs": [],
   "source": [
    "top_words = 5000\n",
    "(X_train_imdb, y_train_imdb), (X_test_imdb, y_test_imdb) = imdb.load_data(num_words=top_words)\n",
    "\n",
    "max_review_length = 500\n",
    "X_train_imdb = pad_sequences(X_train_imdb, maxlen=max_review_length)\n",
    "X_test_imdb = pad_sequences(X_test_imdb, maxlen=max_review_length)"
   ]
  },
  {
   "cell_type": "code",
   "execution_count": 3,
   "metadata": {},
   "outputs": [
    {
     "name": "stdout",
     "output_type": "stream",
     "text": [
      "_________________________________________________________________\n",
      "Layer (type)                 Output Shape              Param #   \n",
      "=================================================================\n",
      "embedding_1 (Embedding)      (None, 500, 50)           250000    \n",
      "_________________________________________________________________\n",
      "dropout_1 (Dropout)          (None, 500, 50)           0         \n",
      "_________________________________________________________________\n",
      "lstm_1 (LSTM)                (None, 100)               60400     \n",
      "_________________________________________________________________\n",
      "dropout_2 (Dropout)          (None, 100)               0         \n",
      "_________________________________________________________________\n",
      "dense_1 (Dense)              (None, 1)                 101       \n",
      "=================================================================\n",
      "Total params: 310,501\n",
      "Trainable params: 310,501\n",
      "Non-trainable params: 0\n",
      "_________________________________________________________________\n",
      "None\n"
     ]
    }
   ],
   "source": [
    "embedding_vecor_length = 50\n",
    "model_imdb = Sequential()\n",
    "model_imdb.add(Embedding(top_words, embedding_vecor_length, input_length=max_review_length))\n",
    "model_imdb.add(Dropout(0.2))\n",
    "model_imdb.add(LSTM(100))\n",
    "model_imdb.add(Dropout(0.3))\n",
    "model_imdb.add(Dense(1, activation='sigmoid'))\n",
    "model_imdb.compile(loss='binary_crossentropy', optimizer='adam', metrics=['accuracy'])\n",
    "print(model_imdb.summary())"
   ]
  },
  {
   "cell_type": "code",
   "execution_count": 4,
   "metadata": {},
   "outputs": [
    {
     "name": "stdout",
     "output_type": "stream",
     "text": [
      "Epoch 1/3\n",
      "25000/25000 [==============================] - 468s 19ms/step - loss: 0.5208 - acc: 0.7339\n",
      "Epoch 2/3\n",
      "25000/25000 [==============================] - 504s 20ms/step - loss: 0.2934 - acc: 0.8842\n",
      "Epoch 3/3\n",
      "25000/25000 [==============================] - 490s 20ms/step - loss: 0.2526 - acc: 0.9024\n"
     ]
    },
    {
     "data": {
      "text/plain": [
       "<keras.callbacks.History at 0x222fdefc860>"
      ]
     },
     "execution_count": 4,
     "metadata": {},
     "output_type": "execute_result"
    }
   ],
   "source": [
    "model_imdb.fit(X_train_imdb, y_train_imdb, epochs=3, batch_size=128)"
   ]
  },
  {
   "cell_type": "code",
   "execution_count": 5,
   "metadata": {},
   "outputs": [
    {
     "name": "stdout",
     "output_type": "stream",
     "text": [
      "25000/25000 [==============================] - 126s 5ms/step\n",
      "Test accuracy =  0.87004\n"
     ]
    }
   ],
   "source": [
    "loss, acc = model_imdb.evaluate(X_test_imdb, y_test_imdb)\n",
    "print(\"Test accuracy = \", acc)"
   ]
  },
  {
   "cell_type": "markdown",
   "metadata": {},
   "source": [
    "**Obversation:** Our model performs pretty good when loading different training set! Our model 2 (using vocabulary prepared by us) performs slightly better than model_imdb (which uses vocabulary prepared by Keras!)"
   ]
  },
  {
   "cell_type": "markdown",
   "metadata": {},
   "source": [
    "# Use run time test data"
   ]
  },
  {
   "cell_type": "code",
   "execution_count": 90,
   "metadata": {},
   "outputs": [],
   "source": [
    "# Input some movie reviews see how well our model can handle\n",
    "X_my_test = np.array([\"its a good movie i like it i will recommend it to my friends\", \"what a terrible movie\", \"wonderful movie all my friends like it\", \"great movie everybody like it\", \"i will rank it low. nothing worthy to see!\"])\n",
    "y_my_test = np.array([[1], [0], [1], [1], [0]])"
   ]
  },
  {
   "cell_type": "code",
   "execution_count": 91,
   "metadata": {},
   "outputs": [],
   "source": [
    "X_my_test_sequence = tokenizer.texts_to_sequences(X_my_test)\n",
    "X_my_test_data = pad_sequences(X_my_test_sequence, maxlen=maxLen)"
   ]
  },
  {
   "cell_type": "code",
   "execution_count": 92,
   "metadata": {},
   "outputs": [
    {
     "name": "stdout",
     "output_type": "stream",
     "text": [
      "5/5 [==============================] - 0s 25ms/step\n",
      "\n",
      "Test accuracy =  1.0\n"
     ]
    }
   ],
   "source": [
    "loss, acc = model_token2.evaluate(X_my_test_data, np.array(y_my_test))\n",
    "print()\n",
    "print(\"Test accuracy = \", acc)"
   ]
  },
  {
   "cell_type": "markdown",
   "metadata": {},
   "source": [
    "**Obversation:** Good! Our model handle run time input data well!"
   ]
  },
  {
   "cell_type": "markdown",
   "metadata": {},
   "source": [
    "**Observations:**\n",
    "\n",
    "By looking at the accuracy score and training time took (reported after model training and evaluating phase), we may conclude that model 2 (LSTM + Dropout) is the best among all the models. The test accuracy achieved 0.87216 – it’s the highest among all the models. Below are more comparison detail:\n",
    "1. (LSTM, Dropout) is more robust than single LSTM layer since the former does better job in preventing overfitting.\n",
    "2. (LSTM, Dropout) performs better than (CNN, Maxpooling, LSTM, Dropout) in terms of accuracy and overfit prevention. Although one-dimensional CNN may excel at learning the spatial structure and pick out invariant features for good and bad sentiment, sometimes it may lead to overfitting. We may find out this by comparing the differences in training and testing set accuracy between these 2 models.\n",
    "3. (LSTM, Dropout) performs better than multiple (LSTM, dropout) in terms of accuracy, and speed. The latter takes much onger besides having lower accuracy score.\n",
    "4. (Trainable word embedding, LSTM, Dropout) performs better than (pre-trained Glove, LSTM, Dropout) in terms of accuracy and speed. It took the latter much long to train. Model using Glove may perform very well if the training/testing set need to use word analogies and training set is not too large - these does not seem to apply here.\n",
    "\n",
    "Regarding the parameters used in model 2: LSTM with 100/128 hidden units are common choices in many articles, dropout rate 0.2~0.5 are also common choices. Our parameters seem to be appropriate.\n",
    "\n",
    "We’ve also applied different training set (loaded by using imdb.load_data – vocabulary and tokens are generated by Keras from original training set) and different testing set (run time input) on our model, the results are still good. These prove our final model is robust, generalized well to unseen data and hence trustable."
   ]
  },
  {
   "cell_type": "markdown",
   "metadata": {},
   "source": [
    "## Justification ##\n",
    "By comparing the accuracy score from our model with the same score from the benchmark model, we may conclude that our final model has stronger performance and is superior than the benchmark model.\n",
    "\n",
    "In the previous sections, we’ve thoroughly analyzed and discussed the final solution –\n",
    "1. We ensure that using word embedding layer plus LSTM is superior than traditional BOW: word embedding may capture the characteristics of each word in higher dimension vector space besides considering the word frequency and LSTM may learn from short-term or long-term context while BOW only consider the word occurrences.\n",
    "2. We’ve compared results using different word embedding layers (trainable vs pre-trained word embedding).\n",
    "3. We’ve compared models using different combinations of layers: single LSTM, (LSTM,  Dropout), (CNN, Maxpooling, LSTM, Dropout), and multiple LSTMs.\n",
    "4. We ensure that the parameters used in each layer are appropriate: LSTM with 100 hidden units/128 hidden units are common choices in many articles, dropout rate 0.2 ~ 0.5 are common in many articles.\n",
    "5. We’ve applied different training set (input) and different testing set to our final model: the results are very good. That proves our model is very robust.\n",
    "\n",
    "Based on the above observation and summary, our final solution is significant enough to have solve the problem."
   ]
  },
  {
   "cell_type": "markdown",
   "metadata": {},
   "source": [
    "# *V. Conclusion* #\n",
    "## Reflection ##\n",
    "Summary for the entire end-to-end solution for this problem (sentiment classification for large movie review):\n",
    "1. Do a good job in cleaning the training/testing data.\n",
    "2. Create a simple but work benchmark model: like Naive Bayes with Bag or Words.\n",
    "3. Create model(s) with trainable word embedding generated by Keras based on the vocabulary/tokens created from the cleaned training data prepared by us. Use RNN/LSTM with proper dropout. May add optional CNN plus Maxpooling layer to compare the results.\n",
    "4. Create a referencde model which uses pre-trained word embedding (like Glove). Compare the results from step 3). Note: Model with Glove usually takes sometime to train to get good results.\n",
    "5. Compare step 3) and step 4) and pick a best model. Glove is a good choice when we have a smaller training set. However, if we have a large dataset, it will take us some time to train the model. But it’s good to use Glove on the same architecture we created (which uses trainable word embedding prepared by us) to verify if all the parameters are appropriate.\n",
    "\n",
    "The above major tasks should provide us a robust model for this problem.\n",
    "\n",
    "In general, the final model and solution fit my expectation for the problem, and it can be used in a general setting to solve these types of problems."
   ]
  },
  {
   "cell_type": "markdown",
   "metadata": {},
   "source": [
    "## Improvement ##\n",
    "Anything we can do to improve our model? I can think of a few:\n",
    "1. Text cleaning: replacing sentences like “I don’t like” to “I do not like”, “I’ll” to “I will” etc. These might have some impact on sentiment classification.\n",
    "2. Text cleaning: applying Porter Stemming Algorithm – The Porter stemming algorithm (or ‘Porter stemmer’) is a process for removing the commoner morphological and inflexional endings from words in English. Its main use is as part of a termnormalisation process that is usually done when setting up Information Retrieval system.\n",
    "3. Using word2vec or other pre-trained word representation for word embedding layer.\n",
    "\n",
    "<img src=\"images/movie_night.png\" style=\"width:450;height:300px;\">"
   ]
  }
 ],
 "metadata": {
  "kernelspec": {
   "display_name": "Python 3",
   "language": "python",
   "name": "python3"
  },
  "language_info": {
   "codemirror_mode": {
    "name": "ipython",
    "version": 3
   },
   "file_extension": ".py",
   "mimetype": "text/x-python",
   "name": "python",
   "nbconvert_exporter": "python",
   "pygments_lexer": "ipython3",
   "version": "3.6.6"
  }
 },
 "nbformat": 4,
 "nbformat_minor": 2
}
